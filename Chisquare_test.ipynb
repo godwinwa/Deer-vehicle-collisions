{
  "metadata": {
    "kernelspec": {
      "display_name": "Python (env Gerda)",
      "name": "py-dku-venv-gerda",
      "language": "python"
    },
    "language_info": {
      "mimetype": "text/x-python",
      "nbconvert_exporter": "python",
      "version": "3.6.10",
      "name": "python",
      "pygments_lexer": "ipython3",
      "file_extension": ".py",
      "codemirror_mode": {
        "version": 3,
        "name": "ipython"
      }
    },
    "creator": "acheampongg",
    "createdOn": 1620036440781,
    "tags": [],
    "modifiedBy": "acheampongg",
    "colab": {
      "provenance": [],
      "name": "Chisquare test.ipynb"
    },
    "customFields": {}
  },
  "nbformat": 4,
  "nbformat_minor": 1,
  "cells": [
    {
      "execution_count": 0,
      "cell_type": "code",
      "metadata": {},
      "source": [
        "%pylab inline"
      ],
      "outputs": []
    },
    {
      "execution_count": 0,
      "cell_type": "code",
      "metadata": {},
      "source": [
        "import dataiku\nfrom dataiku import pandasutils as pdu"
      ],
      "outputs": []
    },
    {
      "execution_count": 3,
      "cell_type": "code",
      "metadata": {
        "id": "X_wNSoSCG82f"
      },
      "source": [
        "import pandas as pd\nimport datetime \nfrom scipy.stats import chisquare\nimport matplotlib.pyplot as plt\nimport datetime"
      ],
      "outputs": []
    },
    {
      "execution_count": 0,
      "cell_type": "code",
      "metadata": {},
      "source": [
        "# Example: load a DSS dataset as a Pandas dataframe\nmydataset \u003d dataiku.Dataset(\"zeeweg\")\ndf \u003d mydataset.get_dataframe()"
      ],
      "outputs": []
    },
    {
      "execution_count": 0,
      "cell_type": "code",
      "metadata": {
        "outputId": "ff47a1e8-6f76-40de-eecc-3c673cb8b021",
        "id": "4IQlfIesG82o"
      },
      "source": [
        "df.head()"
      ],
      "outputs": [
        {
          "output_type": "execute_result",
          "metadata": {
            "tags": []
          },
          "data": {
            "text/html": "\u003cdiv\u003e\n\u003cstyle scoped\u003e\n    .dataframe tbody tr th:only-of-type {\n        vertical-align: middle;\n    }\n\n    .dataframe tbody tr th {\n        vertical-align: top;\n    }\n\n    .dataframe thead th {\n        text-align: right;\n    }\n\u003c/style\u003e\n\u003ctable border\u003d\"1\" class\u003d\"dataframe\"\u003e\n  \u003cthead\u003e\n    \u003ctr style\u003d\"text-align: right;\"\u003e\n      \u003cth\u003e\u003c/th\u003e\n      \u003cth\u003eUnnamed: 0\u003c/th\u003e\n      \u003cth\u003eUnnamed: 0.1\u003c/th\u003e\n      \u003cth\u003eUnnamed: 0.1.1\u003c/th\u003e\n      \u003cth\u003eUnnamed: 0.1.1.1\u003c/th\u003e\n      \u003cth\u003eDatum\u003c/th\u003e\n      \u003cth\u003eTijd\u003c/th\u003e\n      \u003cth\u003eAantal\u003c/th\u003e\n      \u003cth\u003eDiersoort\u003c/th\u003e\n      \u003cth\u003eWildType\u003c/th\u003e\n      \u003cth\u003eGeslacht\u003c/th\u003e\n      \u003cth\u003e...\u003c/th\u003e\n      \u003cth\u003eLatitude\u003c/th\u003e\n      \u003cth\u003eX\u003c/th\u003e\n      \u003cth\u003eY\u003c/th\u003e\n      \u003cth\u003eWeekdatum\u003c/th\u003e\n      \u003cth\u003eYear\u003c/th\u003e\n      \u003cth\u003eMonth\u003c/th\u003e\n      \u003cth\u003ecolor\u003c/th\u003e\n      \u003cth\u003eDay\u003c/th\u003e\n      \u003cth\u003eWeekend\u003c/th\u003e\n      \u003cth\u003eDaylight\u003c/th\u003e\n    \u003c/tr\u003e\n  \u003c/thead\u003e\n  \u003ctbody\u003e\n    \u003ctr\u003e\n      \u003cth\u003e0\u003c/th\u003e\n      \u003ctd\u003e0\u003c/td\u003e\n      \u003ctd\u003e0\u003c/td\u003e\n      \u003ctd\u003e0\u003c/td\u003e\n      \u003ctd\u003e279\u003c/td\u003e\n      \u003ctd\u003e2014-02-21\u003c/td\u003e\n      \u003ctd\u003e00:00:00\u003c/td\u003e\n      \u003ctd\u003e1\u003c/td\u003e\n      \u003ctd\u003eDamhert\u003c/td\u003e\n      \u003ctd\u003eMK\u003c/td\u003e\n      \u003ctd\u003em\u003c/td\u003e\n      \u003ctd\u003e...\u003c/td\u003e\n      \u003ctd\u003e52.394451\u003c/td\u003e\n      \u003ctd\u003e100806.7\u003c/td\u003e\n      \u003ctd\u003e489921.3\u003c/td\u003e\n      \u003ctd\u003e2014-02-17\u003c/td\u003e\n      \u003ctd\u003e2014\u003c/td\u003e\n      \u003ctd\u003e2\u003c/td\u003e\n      \u003ctd\u003eblack\u003c/td\u003e\n      \u003ctd\u003e5\u003c/td\u003e\n      \u003ctd\u003eweekend\u003c/td\u003e\n      \u003ctd\u003eN\u003c/td\u003e\n    \u003c/tr\u003e\n    \u003ctr\u003e\n      \u003cth\u003e1\u003c/th\u003e\n      \u003ctd\u003e1\u003c/td\u003e\n      \u003ctd\u003e1\u003c/td\u003e\n      \u003ctd\u003e1\u003c/td\u003e\n      \u003ctd\u003e285\u003c/td\u003e\n      \u003ctd\u003e2016-02-21\u003c/td\u003e\n      \u003ctd\u003e00:00:00\u003c/td\u003e\n      \u003ctd\u003e1\u003c/td\u003e\n      \u003ctd\u003eDamhert\u003c/td\u003e\n      \u003ctd\u003eHE\u003c/td\u003e\n      \u003ctd\u003em\u003c/td\u003e\n      \u003ctd\u003e...\u003c/td\u003e\n      \u003ctd\u003e52.403671\u003c/td\u003e\n      \u003ctd\u003e98403.6\u003c/td\u003e\n      \u003ctd\u003e490974.3\u003c/td\u003e\n      \u003ctd\u003e2016-02-15\u003c/td\u003e\n      \u003ctd\u003e2016\u003c/td\u003e\n      \u003ctd\u003e2\u003c/td\u003e\n      \u003ctd\u003eblack\u003c/td\u003e\n      \u003ctd\u003e0\u003c/td\u003e\n      \u003ctd\u003eworkday\u003c/td\u003e\n      \u003ctd\u003eN\u003c/td\u003e\n    \u003c/tr\u003e\n    \u003ctr\u003e\n      \u003cth\u003e2\u003c/th\u003e\n      \u003ctd\u003e2\u003c/td\u003e\n      \u003ctd\u003e2\u003c/td\u003e\n      \u003ctd\u003e2\u003c/td\u003e\n      \u003ctd\u003e289\u003c/td\u003e\n      \u003ctd\u003e2015-01-09\u003c/td\u003e\n      \u003ctd\u003e00:00:00\u003c/td\u003e\n      \u003ctd\u003e1\u003c/td\u003e\n      \u003ctd\u003eDamhert\u003c/td\u003e\n      \u003ctd\u003eHE\u003c/td\u003e\n      \u003ctd\u003em\u003c/td\u003e\n      \u003ctd\u003e...\u003c/td\u003e\n      \u003ctd\u003e52.394798\u003c/td\u003e\n      \u003ctd\u003e100832.3\u003c/td\u003e\n      \u003ctd\u003e489959.9\u003c/td\u003e\n      \u003ctd\u003e2015-01-05\u003c/td\u003e\n      \u003ctd\u003e2015\u003c/td\u003e\n      \u003ctd\u003e1\u003c/td\u003e\n      \u003ctd\u003eblack\u003c/td\u003e\n      \u003ctd\u003e5\u003c/td\u003e\n      \u003ctd\u003eweekend\u003c/td\u003e\n      \u003ctd\u003eN\u003c/td\u003e\n    \u003c/tr\u003e\n    \u003ctr\u003e\n      \u003cth\u003e3\u003c/th\u003e\n      \u003ctd\u003e3\u003c/td\u003e\n      \u003ctd\u003e3\u003c/td\u003e\n      \u003ctd\u003e3\u003c/td\u003e\n      \u003ctd\u003e291\u003c/td\u003e\n      \u003ctd\u003e2016-01-15\u003c/td\u003e\n      \u003ctd\u003e05:05:00\u003c/td\u003e\n      \u003ctd\u003e1\u003c/td\u003e\n      \u003ctd\u003eDamhert\u003c/td\u003e\n      \u003ctd\u003eSP\u003c/td\u003e\n      \u003ctd\u003em\u003c/td\u003e\n      \u003ctd\u003e...\u003c/td\u003e\n      \u003ctd\u003e52.397289\u003c/td\u003e\n      \u003ctd\u003e100371.9\u003c/td\u003e\n      \u003ctd\u003e490242.1\u003c/td\u003e\n      \u003ctd\u003e2016-01-11\u003c/td\u003e\n      \u003ctd\u003e2016\u003c/td\u003e\n      \u003ctd\u003e1\u003c/td\u003e\n      \u003ctd\u003eblack\u003c/td\u003e\n      \u003ctd\u003e5\u003c/td\u003e\n      \u003ctd\u003eweekend\u003c/td\u003e\n      \u003ctd\u003eN\u003c/td\u003e\n    \u003c/tr\u003e\n    \u003ctr\u003e\n      \u003cth\u003e4\u003c/th\u003e\n      \u003ctd\u003e4\u003c/td\u003e\n      \u003ctd\u003e4\u003c/td\u003e\n      \u003ctd\u003e4\u003c/td\u003e\n      \u003ctd\u003e292\u003c/td\u003e\n      \u003ctd\u003e2016-02-12\u003c/td\u003e\n      \u003ctd\u003e00:00:00\u003c/td\u003e\n      \u003ctd\u003e1\u003c/td\u003e\n      \u003ctd\u003eDamhert\u003c/td\u003e\n      \u003ctd\u003eHE\u003c/td\u003e\n      \u003ctd\u003em\u003c/td\u003e\n      \u003ctd\u003e...\u003c/td\u003e\n      \u003ctd\u003e52.401371\u003c/td\u003e\n      \u003ctd\u003e98650.4\u003c/td\u003e\n      \u003ctd\u003e490715.5\u003c/td\u003e\n      \u003ctd\u003e2016-02-08\u003c/td\u003e\n      \u003ctd\u003e2016\u003c/td\u003e\n      \u003ctd\u003e2\u003c/td\u003e\n      \u003ctd\u003eblack\u003c/td\u003e\n      \u003ctd\u003e5\u003c/td\u003e\n      \u003ctd\u003eweekend\u003c/td\u003e\n      \u003ctd\u003eN\u003c/td\u003e\n    \u003c/tr\u003e\n  \u003c/tbody\u003e\n\u003c/table\u003e\n\u003cp\u003e5 rows × 22 columns\u003c/p\u003e\n\u003c/div\u003e",
            "text/plain": "   Unnamed: 0  Unnamed: 0.1  Unnamed: 0.1.1  Unnamed: 0.1.1.1      Datum  \\\n0           0             0               0               279 2014-02-21   \n1           1             1               1               285 2016-02-21   \n2           2             2               2               289 2015-01-09   \n3           3             3               3               291 2016-01-15   \n4           4             4               4               292 2016-02-12   \n\n       Tijd  Aantal Diersoort WildType Geslacht  ...   Latitude         X  \\\n0  00:00:00       1   Damhert       MK        m  ...  52.394451  100806.7   \n1  00:00:00       1   Damhert       HE        m  ...  52.403671   98403.6   \n2  00:00:00       1   Damhert       HE        m  ...  52.394798  100832.3   \n3  05:05:00       1   Damhert       SP        m  ...  52.397289  100371.9   \n4  00:00:00       1   Damhert       HE        m  ...  52.401371   98650.4   \n\n          Y  Weekdatum  Year Month  color  Day  Weekend  Daylight  \n0  489921.3 2014-02-17  2014     2  black    5  weekend         N  \n1  490974.3 2016-02-15  2016     2  black    0  workday         N  \n2  489959.9 2015-01-05  2015     1  black    5  weekend         N  \n3  490242.1 2016-01-11  2016     1  black    5  weekend         N  \n4  490715.5 2016-02-08  2016     2  black    5  weekend         N  \n\n[5 rows x 22 columns]"
          },
          "execution_count": 63
        }
      ]
    },
    {
      "execution_count": 6,
      "cell_type": "code",
      "metadata": {
        "outputId": "712710bf-35c8-4210-8045-d126fe8709e1",
        "colab": {
          "base_uri": "https://localhost:8080/"
        },
        "id": "C6jEsR9hG82p"
      },
      "source": [
        "df.info()"
      ],
      "outputs": [
        {
          "output_type": "stream",
          "name": "stdout",
          "text": "\u003cclass \u0027pandas.core.frame.DataFrame\u0027\u003e\nRangeIndex: 172 entries, 0 to 171\nData columns (total 22 columns):\n #   Column            Non-Null Count  Dtype         \n---  ------            --------------  -----         \n 0   Unnamed: 0        172 non-null    int64         \n 1   Unnamed: 0.1      172 non-null    int64         \n 2   Unnamed: 0.1.1    172 non-null    int64         \n 3   Unnamed: 0.1.1.1  172 non-null    int64         \n 4   Datum             172 non-null    datetime64[ns]\n 5   Tijd              172 non-null    object        \n 6   Aantal            172 non-null    int64         \n 7   Diersoort         172 non-null    object        \n 8   WildType          161 non-null    object        \n 9   Geslacht          162 non-null    object        \n 10  Doodsoorzaak      172 non-null    object        \n 11  Longitude         172 non-null    float64       \n 12  Latitude          172 non-null    float64       \n 13  X                 172 non-null    float64       \n 14  Y                 172 non-null    float64       \n 15  Weekdatum         172 non-null    datetime64[ns]\n 16  Year              172 non-null    int64         \n 17  Month             172 non-null    int64         \n 18  color             172 non-null    object        \n 19  Day               172 non-null    int64         \n 20  Weekend           172 non-null    object        \n 21  Daylight          171 non-null    object        \ndtypes: datetime64[ns](2), float64(4), int64(8), object(8)\nmemory usage: 29.7+ KB\n"
        }
      ]
    },
    {
      "execution_count": 0,
      "cell_type": "code",
      "metadata": {
        "id": "sAYvnpKAG82q"
      },
      "source": [
        "#get weekday \ndef get_weekday(day):\n    return day.strftime(\"%w\")\n\ndf[\u0027Day\u0027] \u003d df[\u0027Datum\u0027].apply(get_weekday)"
      ],
      "outputs": []
    },
    {
      "execution_count": 0,
      "cell_type": "code",
      "metadata": {
        "id": "eJlajXgCG82r"
      },
      "source": [
        "#weekend or workday\ndef weekend(day):\n    if day \u003d\u003d \u00275\u0027 or day \u003d\u003d \u00276\u0027:\n        return \u0027weekend\u0027\n    return \u0027workday\u0027\n\ndf[\u0027Weekend\u0027] \u003d df[\u0027Day\u0027].apply(weekend)"
      ],
      "outputs": []
    },
    {
      "execution_count": 0,
      "cell_type": "code",
      "metadata": {
        "outputId": "abd71dee-dd8f-48c6-d7a3-b3baa52fb6cf",
        "id": "UyiD0AlTG82s"
      },
      "source": [
        "#distribution weekend / week \ndf.Weekend.value_counts()"
      ],
      "outputs": [
        {
          "output_type": "execute_result",
          "metadata": {
            "tags": []
          },
          "data": {
            "text/plain": "workday    124\nweekend     48\nName: Weekend, dtype: int64"
          },
          "execution_count": 21
        }
      ]
    },
    {
      "execution_count": 0,
      "cell_type": "code",
      "metadata": {
        "id": "gqex7TDrG82s"
      },
      "source": [
        "#get hour\ndf[\u0027hour\u0027]\u003ddf[\u0027Tijd\u0027].apply(lambda x: x[:2])"
      ],
      "outputs": []
    },
    {
      "execution_count": 0,
      "cell_type": "code",
      "metadata": {
        "id": "B1nzz_g4G82t"
      },
      "source": [
        "#get hour \nhour \u003d df.hour"
      ],
      "outputs": []
    },
    {
      "execution_count": 0,
      "cell_type": "code",
      "metadata": {
        "id": "SRod_jPyG82t"
      },
      "source": [
        "#remove 00:00 time\nhour \u003d hour.value_counts()[1:]"
      ],
      "outputs": []
    },
    {
      "execution_count": 0,
      "cell_type": "code",
      "metadata": {
        "outputId": "d81b3870-010e-438b-d770-cf675a595b3b",
        "id": "E5skz9kOG82v"
      },
      "source": [
        "len(df.Tijd.value_counts()[1:])"
      ],
      "outputs": [
        {
          "output_type": "execute_result",
          "metadata": {
            "tags": []
          },
          "data": {
            "text/plain": "75"
          },
          "execution_count": 56
        }
      ]
    },
    {
      "execution_count": 0,
      "cell_type": "code",
      "metadata": {
        "outputId": "7b43274e-c2cd-4ee4-dffe-01547e718565",
        "id": "XKo1AhBuG82w"
      },
      "source": [
        "df.Tijd.value_counts()"
      ],
      "outputs": [
        {
          "output_type": "execute_result",
          "metadata": {
            "tags": []
          },
          "data": {
            "text/plain": "00:00:00    83\n18:00:00     4\n04:25:00     2\n02:48:00     2\n07:35:00     2\n            ..\n01:15:00     1\n23:14:00     1\n01:29:00     1\n03:55:00     1\n23:00:00     1\nName: Tijd, Length: 76, dtype: int64"
          },
          "execution_count": 59
        }
      ]
    },
    {
      "execution_count": 0,
      "cell_type": "code",
      "metadata": {
        "outputId": "a03e2928-1a8e-4de6-fcc3-177cba3eec21",
        "id": "KEZGZl4eG82x"
      },
      "source": [
        "chisquare(hour)"
      ],
      "outputs": [
        {
          "output_type": "execute_result",
          "metadata": {
            "tags": []
          },
          "data": {
            "text/plain": "Power_divergenceResult(statistic\u003d38.0, pvalue\u003d0.008855583856125122)"
          },
          "execution_count": 6
        }
      ]
    },
    {
      "execution_count": 0,
      "cell_type": "code",
      "metadata": {
        "id": "hflEhbvaG82x"
      },
      "source": [
        "#function to get chisquare \ndef pearsonChiScuare(df, exp\u003dNone):\n   \n\n    #tijd \u003d df[df[\u0027Tijd\u0027] !\u003d \u002700:00:00\u0027]\n    #group \u003d tijd.Daylight.value_counts()\n    #group \u003d df.Day\n    #group \u003d group.value_counts()\n    \n    \n    df \u003d len(group) - 1\n    \n    if exp \u003d\u003dNone:\n        minE \u003d sum(group)/ len(group)\n        chiVal, pval \u003d chisquare(group)\n    else:\n        minE \u003d min(exp)\n        chiVal, pval \u003d chisquare(group, exp)\n    \n    warning \u003d None\n    if minE \u003c 5:\n        warning \u003d \u0027Minimum expected count less than 5\u0027\n    \n    return chiVal, pval, df, minE, warning"
      ],
      "outputs": []
    },
    {
      "execution_count": 0,
      "cell_type": "code",
      "metadata": {
        "outputId": "3f14278d-3e28-445b-8075-5e45f6bc2b49",
        "id": "7V3JYlG_G82x"
      },
      "source": [
        "pearsonChiScuare(df)"
      ],
      "outputs": [
        {
          "output_type": "execute_result",
          "metadata": {
            "tags": []
          },
          "data": {
            "text/plain": "(7.151162790697674, 0.30709382611051383, 6, 24.571428571428573, None)"
          },
          "execution_count": 87
        }
      ]
    },
    {
      "execution_count": 0,
      "cell_type": "code",
      "metadata": {
        "id": "57v17jeHG82z"
      },
      "source": [
        "df.to_excel(\"zeeweg.xlsx\")"
      ],
      "outputs": []
    },
    {
      "execution_count": 0,
      "cell_type": "code",
      "metadata": {
        "outputId": "00bc1700-601a-46d0-a60c-60cec7a15168",
        "id": "y2cR2l2tG82z"
      },
      "source": [
        "df.Weekend.value_counts()"
      ],
      "outputs": [
        {
          "output_type": "execute_result",
          "metadata": {
            "tags": []
          },
          "data": {
            "text/plain": "workday    124\nweekend     48\nName: Weekend, dtype: int64"
          },
          "execution_count": 34
        }
      ]
    },
    {
      "execution_count": 0,
      "cell_type": "code",
      "metadata": {
        "outputId": "46c84144-44d8-453e-ea84-425fea695708",
        "id": "v1oYr6HcG82z"
      },
      "source": [
        "height \u003d [124, 48]\n\nbars \u003d [\u0027Workday\u0027, \u0027Weekend\u0027]\n \n# Choose the position of each barplots on the x-axis (space\u003d1,4,3,1)\nx_pos \u003d [0,1]\n \n# Create bars\nplt.bar(x_pos, height, color\u003d\u0027grey\u0027)\n \n# Create names on the x-axis\nplt.xticks(x_pos, bars)\n\n\n\nplt.ylabel(\u0027Number of deer-vehicle collisions\u0027)\nplt.xlabel(\"Days\")\n#plt.title(\"Number of deer-vehcile collisions from 2014-2020\")\nplt.gcf().set_size_inches(10, 8)\n# Show graphic\nplt.show()\nplt.savefig(\"DVC_days.jpg\")"
      ],
      "outputs": [
        {
          "output_type": "display_data",
          "data": {
            "image/png": "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\u003d\n",
            "text/plain": "\u003cFigure size 720x576 with 1 Axes\u003e"
          },
          "metadata": {
            "needs_background": "light",
            "tags": []
          }
        },
        {
          "output_type": "display_data",
          "data": {
            "text/plain": "\u003cFigure size 432x288 with 0 Axes\u003e"
          },
          "metadata": {
            "tags": []
          }
        }
      ]
    },
    {
      "execution_count": 0,
      "cell_type": "code",
      "metadata": {
        "outputId": "de7d836e-aa90-496c-ee72-9b319faa82e5",
        "id": "NzFTqtvTG82z"
      },
      "source": [
        "#leave 00:00 \ntijd \u003d df[df[\u0027Tijd\u0027] !\u003d \u002700:00:00\u0027]\ntijd.Daylight.value_counts()"
      ],
      "outputs": [
        {
          "output_type": "execute_result",
          "metadata": {
            "tags": []
          },
          "data": {
            "text/plain": "N    58\nY    30\nName: Daylight, dtype: int64"
          },
          "execution_count": 68
        }
      ]
    },
    {
      "execution_count": 7,
      "cell_type": "code",
      "metadata": {
        "outputId": "946e772b-5caf-447e-d086-051835a7682a",
        "colab": {
          "base_uri": "https://localhost:8080/",
          "height": 461
        },
        "id": "NQhq9vVyG820"
      },
      "source": [
        "df"
      ],
      "outputs": [
        {
          "output_type": "execute_result",
          "metadata": {
            "tags": []
          },
          "data": {
            "text/html": "\u003cdiv\u003e\n\u003cstyle scoped\u003e\n    .dataframe tbody tr th:only-of-type {\n        vertical-align: middle;\n    }\n\n    .dataframe tbody tr th {\n        vertical-align: top;\n    }\n\n    .dataframe thead th {\n        text-align: right;\n    }\n\u003c/style\u003e\n\u003ctable border\u003d\"1\" class\u003d\"dataframe\"\u003e\n  \u003cthead\u003e\n    \u003ctr style\u003d\"text-align: right;\"\u003e\n      \u003cth\u003e\u003c/th\u003e\n      \u003cth\u003eUnnamed: 0\u003c/th\u003e\n      \u003cth\u003eUnnamed: 0.1\u003c/th\u003e\n      \u003cth\u003eUnnamed: 0.1.1\u003c/th\u003e\n      \u003cth\u003eUnnamed: 0.1.1.1\u003c/th\u003e\n      \u003cth\u003eDatum\u003c/th\u003e\n      \u003cth\u003eTijd\u003c/th\u003e\n      \u003cth\u003eAantal\u003c/th\u003e\n      \u003cth\u003eDiersoort\u003c/th\u003e\n      \u003cth\u003eWildType\u003c/th\u003e\n      \u003cth\u003eGeslacht\u003c/th\u003e\n      \u003cth\u003eDoodsoorzaak\u003c/th\u003e\n      \u003cth\u003eLongitude\u003c/th\u003e\n      \u003cth\u003eLatitude\u003c/th\u003e\n      \u003cth\u003eX\u003c/th\u003e\n      \u003cth\u003eY\u003c/th\u003e\n      \u003cth\u003eWeekdatum\u003c/th\u003e\n      \u003cth\u003eYear\u003c/th\u003e\n      \u003cth\u003eMonth\u003c/th\u003e\n      \u003cth\u003ecolor\u003c/th\u003e\n      \u003cth\u003eDay\u003c/th\u003e\n      \u003cth\u003eWeekend\u003c/th\u003e\n      \u003cth\u003eDaylight\u003c/th\u003e\n    \u003c/tr\u003e\n  \u003c/thead\u003e\n  \u003ctbody\u003e\n    \u003ctr\u003e\n      \u003cth\u003e0\u003c/th\u003e\n      \u003ctd\u003e0\u003c/td\u003e\n      \u003ctd\u003e0\u003c/td\u003e\n      \u003ctd\u003e0\u003c/td\u003e\n      \u003ctd\u003e279\u003c/td\u003e\n      \u003ctd\u003e2014-02-21\u003c/td\u003e\n      \u003ctd\u003e00:00:00\u003c/td\u003e\n      \u003ctd\u003e1\u003c/td\u003e\n      \u003ctd\u003eDamhert\u003c/td\u003e\n      \u003ctd\u003eMK\u003c/td\u003e\n      \u003ctd\u003em\u003c/td\u003e\n      \u003ctd\u003eaanrijding\u003c/td\u003e\n      \u003ctd\u003e4.59101\u003c/td\u003e\n      \u003ctd\u003e52.394451\u003c/td\u003e\n      \u003ctd\u003e100806.7\u003c/td\u003e\n      \u003ctd\u003e489921.3\u003c/td\u003e\n      \u003ctd\u003e2014-02-17\u003c/td\u003e\n      \u003ctd\u003e2014\u003c/td\u003e\n      \u003ctd\u003e2\u003c/td\u003e\n      \u003ctd\u003eblack\u003c/td\u003e\n      \u003ctd\u003e5\u003c/td\u003e\n      \u003ctd\u003eweekend\u003c/td\u003e\n      \u003ctd\u003eN\u003c/td\u003e\n    \u003c/tr\u003e\n    \u003ctr\u003e\n      \u003cth\u003e1\u003c/th\u003e\n      \u003ctd\u003e1\u003c/td\u003e\n      \u003ctd\u003e1\u003c/td\u003e\n      \u003ctd\u003e1\u003c/td\u003e\n      \u003ctd\u003e285\u003c/td\u003e\n      \u003ctd\u003e2016-02-21\u003c/td\u003e\n      \u003ctd\u003e00:00:00\u003c/td\u003e\n      \u003ctd\u003e1\u003c/td\u003e\n      \u003ctd\u003eDamhert\u003c/td\u003e\n      \u003ctd\u003eHE\u003c/td\u003e\n      \u003ctd\u003em\u003c/td\u003e\n      \u003ctd\u003eaanrijding\u003c/td\u003e\n      \u003ctd\u003e4.55553\u003c/td\u003e\n      \u003ctd\u003e52.403671\u003c/td\u003e\n      \u003ctd\u003e98403.6\u003c/td\u003e\n      \u003ctd\u003e490974.3\u003c/td\u003e\n      \u003ctd\u003e2016-02-15\u003c/td\u003e\n      \u003ctd\u003e2016\u003c/td\u003e\n      \u003ctd\u003e2\u003c/td\u003e\n      \u003ctd\u003eblack\u003c/td\u003e\n      \u003ctd\u003e0\u003c/td\u003e\n      \u003ctd\u003eworkday\u003c/td\u003e\n      \u003ctd\u003eN\u003c/td\u003e\n    \u003c/tr\u003e\n    \u003ctr\u003e\n      \u003cth\u003e2\u003c/th\u003e\n      \u003ctd\u003e2\u003c/td\u003e\n      \u003ctd\u003e2\u003c/td\u003e\n      \u003ctd\u003e2\u003c/td\u003e\n      \u003ctd\u003e289\u003c/td\u003e\n      \u003ctd\u003e2015-01-09\u003c/td\u003e\n      \u003ctd\u003e00:00:00\u003c/td\u003e\n      \u003ctd\u003e1\u003c/td\u003e\n      \u003ctd\u003eDamhert\u003c/td\u003e\n      \u003ctd\u003eHE\u003c/td\u003e\n      \u003ctd\u003em\u003c/td\u003e\n      \u003ctd\u003eaanrijding\u003c/td\u003e\n      \u003ctd\u003e4.59138\u003c/td\u003e\n      \u003ctd\u003e52.394798\u003c/td\u003e\n      \u003ctd\u003e100832.3\u003c/td\u003e\n      \u003ctd\u003e489959.9\u003c/td\u003e\n      \u003ctd\u003e2015-01-05\u003c/td\u003e\n      \u003ctd\u003e2015\u003c/td\u003e\n      \u003ctd\u003e1\u003c/td\u003e\n      \u003ctd\u003eblack\u003c/td\u003e\n      \u003ctd\u003e5\u003c/td\u003e\n      \u003ctd\u003eweekend\u003c/td\u003e\n      \u003ctd\u003eN\u003c/td\u003e\n    \u003c/tr\u003e\n    \u003ctr\u003e\n      \u003cth\u003e3\u003c/th\u003e\n      \u003ctd\u003e3\u003c/td\u003e\n      \u003ctd\u003e3\u003c/td\u003e\n      \u003ctd\u003e3\u003c/td\u003e\n      \u003ctd\u003e291\u003c/td\u003e\n      \u003ctd\u003e2016-01-15\u003c/td\u003e\n      \u003ctd\u003e05:05:00\u003c/td\u003e\n      \u003ctd\u003e1\u003c/td\u003e\n      \u003ctd\u003eDamhert\u003c/td\u003e\n      \u003ctd\u003eSP\u003c/td\u003e\n      \u003ctd\u003em\u003c/td\u003e\n      \u003ctd\u003eaanrijding\u003c/td\u003e\n      \u003ctd\u003e4.58457\u003c/td\u003e\n      \u003ctd\u003e52.397289\u003c/td\u003e\n      \u003ctd\u003e100371.9\u003c/td\u003e\n      \u003ctd\u003e490242.1\u003c/td\u003e\n      \u003ctd\u003e2016-01-11\u003c/td\u003e\n      \u003ctd\u003e2016\u003c/td\u003e\n      \u003ctd\u003e1\u003c/td\u003e\n      \u003ctd\u003eblack\u003c/td\u003e\n      \u003ctd\u003e5\u003c/td\u003e\n      \u003ctd\u003eweekend\u003c/td\u003e\n      \u003ctd\u003eN\u003c/td\u003e\n    \u003c/tr\u003e\n    \u003ctr\u003e\n      \u003cth\u003e4\u003c/th\u003e\n      \u003ctd\u003e4\u003c/td\u003e\n      \u003ctd\u003e4\u003c/td\u003e\n      \u003ctd\u003e4\u003c/td\u003e\n      \u003ctd\u003e292\u003c/td\u003e\n      \u003ctd\u003e2016-02-12\u003c/td\u003e\n      \u003ctd\u003e00:00:00\u003c/td\u003e\n      \u003ctd\u003e1\u003c/td\u003e\n      \u003ctd\u003eDamhert\u003c/td\u003e\n      \u003ctd\u003eHE\u003c/td\u003e\n      \u003ctd\u003em\u003c/td\u003e\n      \u003ctd\u003eaanrijding\u003c/td\u003e\n      \u003ctd\u003e4.55920\u003c/td\u003e\n      \u003ctd\u003e52.401371\u003c/td\u003e\n      \u003ctd\u003e98650.4\u003c/td\u003e\n      \u003ctd\u003e490715.5\u003c/td\u003e\n      \u003ctd\u003e2016-02-08\u003c/td\u003e\n      \u003ctd\u003e2016\u003c/td\u003e\n      \u003ctd\u003e2\u003c/td\u003e\n      \u003ctd\u003eblack\u003c/td\u003e\n      \u003ctd\u003e5\u003c/td\u003e\n      \u003ctd\u003eweekend\u003c/td\u003e\n      \u003ctd\u003eN\u003c/td\u003e\n    \u003c/tr\u003e\n    \u003ctr\u003e\n      \u003cth\u003e...\u003c/th\u003e\n      \u003ctd\u003e...\u003c/td\u003e\n      \u003ctd\u003e...\u003c/td\u003e\n      \u003ctd\u003e...\u003c/td\u003e\n      \u003ctd\u003e...\u003c/td\u003e\n      \u003ctd\u003e...\u003c/td\u003e\n      \u003ctd\u003e...\u003c/td\u003e\n      \u003ctd\u003e...\u003c/td\u003e\n      \u003ctd\u003e...\u003c/td\u003e\n      \u003ctd\u003e...\u003c/td\u003e\n      \u003ctd\u003e...\u003c/td\u003e\n      \u003ctd\u003e...\u003c/td\u003e\n      \u003ctd\u003e...\u003c/td\u003e\n      \u003ctd\u003e...\u003c/td\u003e\n      \u003ctd\u003e...\u003c/td\u003e\n      \u003ctd\u003e...\u003c/td\u003e\n      \u003ctd\u003e...\u003c/td\u003e\n      \u003ctd\u003e...\u003c/td\u003e\n      \u003ctd\u003e...\u003c/td\u003e\n      \u003ctd\u003e...\u003c/td\u003e\n      \u003ctd\u003e...\u003c/td\u003e\n      \u003ctd\u003e...\u003c/td\u003e\n      \u003ctd\u003e...\u003c/td\u003e\n    \u003c/tr\u003e\n    \u003ctr\u003e\n      \u003cth\u003e167\u003c/th\u003e\n      \u003ctd\u003e167\u003c/td\u003e\n      \u003ctd\u003e167\u003c/td\u003e\n      \u003ctd\u003e171\u003c/td\u003e\n      \u003ctd\u003e653\u003c/td\u003e\n      \u003ctd\u003e2019-06-11\u003c/td\u003e\n      \u003ctd\u003e00:00:00\u003c/td\u003e\n      \u003ctd\u003e1\u003c/td\u003e\n      \u003ctd\u003eDamhert\u003c/td\u003e\n      \u003ctd\u003eSP\u003c/td\u003e\n      \u003ctd\u003em\u003c/td\u003e\n      \u003ctd\u003eaanrijding\u003c/td\u003e\n      \u003ctd\u003e4.56392\u003c/td\u003e\n      \u003ctd\u003e52.399818\u003c/td\u003e\n      \u003ctd\u003e98969.6\u003c/td\u003e\n      \u003ctd\u003e490539.4\u003c/td\u003e\n      \u003ctd\u003e2019-06-10\u003c/td\u003e\n      \u003ctd\u003e2019\u003c/td\u003e\n      \u003ctd\u003e6\u003c/td\u003e\n      \u003ctd\u003eblack\u003c/td\u003e\n      \u003ctd\u003e2\u003c/td\u003e\n      \u003ctd\u003eworkday\u003c/td\u003e\n      \u003ctd\u003eN\u003c/td\u003e\n    \u003c/tr\u003e\n    \u003ctr\u003e\n      \u003cth\u003e168\u003c/th\u003e\n      \u003ctd\u003e168\u003c/td\u003e\n      \u003ctd\u003e168\u003c/td\u003e\n      \u003ctd\u003e172\u003c/td\u003e\n      \u003ctd\u003e654\u003c/td\u003e\n      \u003ctd\u003e2019-02-11\u003c/td\u003e\n      \u003ctd\u003e19:47:00\u003c/td\u003e\n      \u003ctd\u003e1\u003c/td\u003e\n      \u003ctd\u003eRee\u003c/td\u003e\n      \u003ctd\u003eGEIT\u003c/td\u003e\n      \u003ctd\u003ev\u003c/td\u003e\n      \u003ctd\u003eaanrijding\u003c/td\u003e\n      \u003ctd\u003e4.55330\u003c/td\u003e\n      \u003ctd\u003e52.404160\u003c/td\u003e\n      \u003ctd\u003e98252.4\u003c/td\u003e\n      \u003ctd\u003e491030.5\u003c/td\u003e\n      \u003ctd\u003e2019-02-11\u003c/td\u003e\n      \u003ctd\u003e2019\u003c/td\u003e\n      \u003ctd\u003e2\u003c/td\u003e\n      \u003ctd\u003eblack\u003c/td\u003e\n      \u003ctd\u003e1\u003c/td\u003e\n      \u003ctd\u003eworkday\u003c/td\u003e\n      \u003ctd\u003eN\u003c/td\u003e\n    \u003c/tr\u003e\n    \u003ctr\u003e\n      \u003cth\u003e169\u003c/th\u003e\n      \u003ctd\u003e169\u003c/td\u003e\n      \u003ctd\u003e169\u003c/td\u003e\n      \u003ctd\u003e173\u003c/td\u003e\n      \u003ctd\u003e655\u003c/td\u003e\n      \u003ctd\u003e2018-02-22\u003c/td\u003e\n      \u003ctd\u003e01:29:00\u003c/td\u003e\n      \u003ctd\u003e1\u003c/td\u003e\n      \u003ctd\u003eDamhert\u003c/td\u003e\n      \u003ctd\u003eNaN\u003c/td\u003e\n      \u003ctd\u003eNaN\u003c/td\u003e\n      \u003ctd\u003eaanrijding\u003c/td\u003e\n      \u003ctd\u003e4.57194\u003c/td\u003e\n      \u003ctd\u003e52.398159\u003c/td\u003e\n      \u003ctd\u003e99513.4\u003c/td\u003e\n      \u003ctd\u003e490348.5\u003c/td\u003e\n      \u003ctd\u003e2018-02-19\u003c/td\u003e\n      \u003ctd\u003e2018\u003c/td\u003e\n      \u003ctd\u003e2\u003c/td\u003e\n      \u003ctd\u003eblack\u003c/td\u003e\n      \u003ctd\u003e4\u003c/td\u003e\n      \u003ctd\u003eworkday\u003c/td\u003e\n      \u003ctd\u003eN\u003c/td\u003e\n    \u003c/tr\u003e\n    \u003ctr\u003e\n      \u003cth\u003e170\u003c/th\u003e\n      \u003ctd\u003e170\u003c/td\u003e\n      \u003ctd\u003e170\u003c/td\u003e\n      \u003ctd\u003e174\u003c/td\u003e\n      \u003ctd\u003e656\u003c/td\u003e\n      \u003ctd\u003e2020-01-05\u003c/td\u003e\n      \u003ctd\u003e18:34:00\u003c/td\u003e\n      \u003ctd\u003e1\u003c/td\u003e\n      \u003ctd\u003eDamhert\u003c/td\u003e\n      \u003ctd\u003eHE\u003c/td\u003e\n      \u003ctd\u003em\u003c/td\u003e\n      \u003ctd\u003eaanrijding\u003c/td\u003e\n      \u003ctd\u003e4.55973\u003c/td\u003e\n      \u003ctd\u003e52.400570\u003c/td\u003e\n      \u003ctd\u003e98685.4\u003c/td\u003e\n      \u003ctd\u003e490626.1\u003c/td\u003e\n      \u003ctd\u003e2019-12-30\u003c/td\u003e\n      \u003ctd\u003e2020\u003c/td\u003e\n      \u003ctd\u003e1\u003c/td\u003e\n      \u003ctd\u003ered\u003c/td\u003e\n      \u003ctd\u003e0\u003c/td\u003e\n      \u003ctd\u003eworkday\u003c/td\u003e\n      \u003ctd\u003eN\u003c/td\u003e\n    \u003c/tr\u003e\n    \u003ctr\u003e\n      \u003cth\u003e171\u003c/th\u003e\n      \u003ctd\u003e171\u003c/td\u003e\n      \u003ctd\u003e171\u003c/td\u003e\n      \u003ctd\u003e175\u003c/td\u003e\n      \u003ctd\u003e718\u003c/td\u003e\n      \u003ctd\u003e2020-11-24\u003c/td\u003e\n      \u003ctd\u003e22:15:00\u003c/td\u003e\n      \u003ctd\u003e1\u003c/td\u003e\n      \u003ctd\u003eRee\u003c/td\u003e\n      \u003ctd\u003eSMR\u003c/td\u003e\n      \u003ctd\u003ev\u003c/td\u003e\n      \u003ctd\u003eaanrijding\u003c/td\u003e\n      \u003ctd\u003e4.60120\u003c/td\u003e\n      \u003ctd\u003e52.393082\u003c/td\u003e\n      \u003ctd\u003e101498.6\u003c/td\u003e\n      \u003ctd\u003e489761.3\u003c/td\u003e\n      \u003ctd\u003e2020-11-23\u003c/td\u003e\n      \u003ctd\u003e2020\u003c/td\u003e\n      \u003ctd\u003e11\u003c/td\u003e\n      \u003ctd\u003ered\u003c/td\u003e\n      \u003ctd\u003e2\u003c/td\u003e\n      \u003ctd\u003eworkday\u003c/td\u003e\n      \u003ctd\u003eNaN\u003c/td\u003e\n    \u003c/tr\u003e\n  \u003c/tbody\u003e\n\u003c/table\u003e\n\u003cp\u003e172 rows × 22 columns\u003c/p\u003e\n\u003c/div\u003e",
            "text/plain": "     Unnamed: 0  Unnamed: 0.1  Unnamed: 0.1.1  ...  Day  Weekend Daylight\n0             0             0               0  ...    5  weekend        N\n1             1             1               1  ...    0  workday        N\n2             2             2               2  ...    5  weekend        N\n3             3             3               3  ...    5  weekend        N\n4             4             4               4  ...    5  weekend        N\n..          ...           ...             ...  ...  ...      ...      ...\n167         167           167             171  ...    2  workday        N\n168         168           168             172  ...    1  workday        N\n169         169           169             173  ...    4  workday        N\n170         170           170             174  ...    0  workday        N\n171         171           171             175  ...    2  workday      NaN\n\n[172 rows x 22 columns]"
          },
          "execution_count": 7
        }
      ]
    },
    {
      "execution_count": 13,
      "cell_type": "code",
      "metadata": {
        "id": "yLKUXusWH4lm"
      },
      "source": [
        "#get relative numbers\ntraffic_intensity \u003d {2014: [12344, 11779], 2015: [12187, 11407],\n                     2016: [11964, 11185], 2017: [12158, 11490],\n                     2018: [12672, 12079], 2019: [12164, 11154],\n                     2020: [11191, 10992]}\n\nweekend_relative \u003d {}\nworkday_relative \u003d {}\n\nfor i in df[\u0027Year\u0027].unique():\n    weekend_relative[i] \u003d len(df[(df[\u0027Year\u0027] \u003d\u003d i) \u0026 (df[\u0027Weekend\u0027] \u003d\u003d \u0027weekend\u0027)]) / traffic_intensity[i][0] * 100000 / 2   \n\n    workday_relative[i] \u003d len(df[(df[\u0027Year\u0027] \u003d\u003d i) \u0026 (df[\u0027Weekend\u0027] \u003d\u003d \u0027workday\u0027)]) / traffic_intensity[i][1] * 100000 / 5"
      ],
      "outputs": []
    },
    {
      "execution_count": 14,
      "cell_type": "code",
      "metadata": {
        "id": "i6Nh-EYBJ0Xr"
      },
      "source": [
        "#create df\ndf_week_workday \u003d pd.DataFrame([weekend_relative, workday_relative])"
      ],
      "outputs": []
    },
    {
      "execution_count": 0,
      "cell_type": "code",
      "metadata": {},
      "source": [
        "#sum work vs week\nworkdays \u003d sum(workday_relative.values())\nweekend \u003d sum(weekend_relative.values())"
      ],
      "outputs": []
    },
    {
      "execution_count": 0,
      "cell_type": "code",
      "metadata": {},
      "source": [
        "#create df/contingency table\ndf_week_workday \u003d pd.DataFrame([weekend_relative, workday_relative])"
      ],
      "outputs": []
    },
    {
      "execution_count": 21,
      "cell_type": "code",
      "metadata": {
        "id": "Ht5t6u1DNvCB"
      },
      "source": [
        "#transpose dataframe\ndf1 \u003d df_week_workday.T"
      ],
      "outputs": []
    },
    {
      "execution_count": 23,
      "cell_type": "code",
      "metadata": {
        "id": "sjiQf2hhkKcF"
      },
      "source": [
        "df1 \u003d df1.rename(columns\u003d{0:\"Weekend\", 1:\u0027Workday\u0027})"
      ],
      "outputs": []
    },
    {
      "execution_count": 24,
      "cell_type": "code",
      "metadata": {
        "outputId": "124a2cf1-4df1-4cdc-cd58-17c642fb1b11",
        "colab": {
          "base_uri": "https://localhost:8080/",
          "height": 269
        },
        "id": "gCewLSlhK11j"
      },
      "source": [
        "df1"
      ],
      "outputs": [
        {
          "output_type": "execute_result",
          "metadata": {
            "tags": []
          },
          "data": {
            "text/html": "\u003cdiv\u003e\n\u003cstyle scoped\u003e\n    .dataframe tbody tr th:only-of-type {\n        vertical-align: middle;\n    }\n\n    .dataframe tbody tr th {\n        vertical-align: top;\n    }\n\n    .dataframe thead th {\n        text-align: right;\n    }\n\u003c/style\u003e\n\u003ctable border\u003d\"1\" class\u003d\"dataframe\"\u003e\n  \u003cthead\u003e\n    \u003ctr style\u003d\"text-align: right;\"\u003e\n      \u003cth\u003e\u003c/th\u003e\n      \u003cth\u003eWeekend\u003c/th\u003e\n      \u003cth\u003eWorkday\u003c/th\u003e\n    \u003c/tr\u003e\n  \u003c/thead\u003e\n  \u003ctbody\u003e\n    \u003ctr\u003e\n      \u003cth\u003e2014\u003c/th\u003e\n      \u003ctd\u003e7.128970\u003c/td\u003e\n      \u003ctd\u003e13.074115\u003c/td\u003e\n    \u003c/tr\u003e\n    \u003ctr\u003e\n      \u003cth\u003e2016\u003c/th\u003e\n      \u003ctd\u003e5.516550\u003c/td\u003e\n      \u003ctd\u003e19.669200\u003c/td\u003e\n    \u003c/tr\u003e\n    \u003ctr\u003e\n      \u003cth\u003e2015\u003c/th\u003e\n      \u003ctd\u003e7.220809\u003c/td\u003e\n      \u003ctd\u003e16.393443\u003c/td\u003e\n    \u003c/tr\u003e\n    \u003ctr\u003e\n      \u003cth\u003e2020\u003c/th\u003e\n      \u003ctd\u003e3.931731\u003c/td\u003e\n      \u003ctd\u003e12.008734\u003c/td\u003e\n    \u003c/tr\u003e\n    \u003ctr\u003e\n      \u003cth\u003e2017\u003c/th\u003e\n      \u003ctd\u003e5.428524\u003c/td\u003e\n      \u003ctd\u003e12.445605\u003c/td\u003e\n    \u003c/tr\u003e\n    \u003ctr\u003e\n      \u003cth\u003e2018\u003c/th\u003e\n      \u003ctd\u003e5.208333\u003c/td\u003e\n      \u003ctd\u003e14.570743\u003c/td\u003e\n    \u003c/tr\u003e\n    \u003ctr\u003e\n      \u003cth\u003e2019\u003c/th\u003e\n      \u003ctd\u003e9.043078\u003c/td\u003e\n      \u003ctd\u003e31.558185\u003c/td\u003e\n    \u003c/tr\u003e\n  \u003c/tbody\u003e\n\u003c/table\u003e\n\u003c/div\u003e",
            "text/plain": "       Weekend    Workday\n2014  7.128970  13.074115\n2016  5.516550  19.669200\n2015  7.220809  16.393443\n2020  3.931731  12.008734\n2017  5.428524  12.445605\n2018  5.208333  14.570743\n2019  9.043078  31.558185"
          },
          "execution_count": 24
        }
      ]
    },
    {
      "execution_count": 25,
      "cell_type": "code",
      "metadata": {
        "outputId": "2aa47b21-d387-43c6-8363-4f75728182d6",
        "colab": {
          "base_uri": "https://localhost:8080/"
        },
        "id": "gLioXfhCLsOt"
      },
      "source": [
        "chisquare(df1)"
      ],
      "outputs": [
        {
          "output_type": "execute_result",
          "metadata": {
            "tags": []
          },
          "data": {
            "text/plain": "Power_divergenceResult(statistic\u003darray([ 2.76567256, 16.74154792]), pvalue\u003darray([0.83763018, 0.01028153]))"
          },
          "execution_count": 25
        }
      ]
    },
    {
      "execution_count": 28,
      "cell_type": "code",
      "metadata": {
        "id": "7_Ma-5kMMDe2"
      },
      "source": [
        "#get weekday total \nweekend \u003d df1[\u0027Weekend\u0027].sum()\nworkday \u003d df1[\u0027Workday\u0027].sum() "
      ],
      "outputs": []
    },
    {
      "execution_count": 29,
      "cell_type": "code",
      "metadata": {
        "outputId": "88e83735-11e8-498e-a803-94047bafcd54",
        "colab": {
          "base_uri": "https://localhost:8080/"
        },
        "id": "Ei-h83IRNqoy"
      },
      "source": [
        "chisquare([weekend, workday])"
      ],
      "outputs": [
        {
          "output_type": "execute_result",
          "metadata": {
            "tags": []
          },
          "data": {
            "text/plain": "Power_divergenceResult(statistic\u003d35.6183674818318, pvalue\u003d2.40013783008808e-09)"
          },
          "execution_count": 29
        }
      ]
    },
    {
      "execution_count": 20,
      "cell_type": "code",
      "metadata": {
        "outputId": "c9a9dd59-42b3-4b9a-9e7b-24aaeee90cd1",
        "colab": {
          "base_uri": "https://localhost:8080/"
        },
        "id": "zgdBt0T9Nt1D"
      },
      "source": [
        "# days divided by traffic intensity\n#get relative numbers\nday_traffic \u003d {}\n\nfor i in range(0, 172):\n    if df.iloc[i][\u0027Day\u0027] \u003e 4:\n        day_traffic[i] \u003d 1 / traffic_intensity[df.iloc[i][\u0027Year\u0027]][0] * 100000\n    else:\n        day_traffic[i] \u003d 1 / traffic_intensity[df.iloc[i][\u0027Year\u0027]][1] * 100000\n"
      ],
      "outputs": [
        {
          "output_type": "execute_result",
          "metadata": {
            "tags": []
          },
          "data": {
            "text/plain": "2014       2016      2015       2020       2017       2018       2019     \n13.074115  19.66920  16.393443  12.008734  12.445605  14.570743  31.558185    1\n7.128970   5.51655   7.220809   3.931731   5.428524   5.208333   9.043078     1\ndtype: int64"
          },
          "execution_count": 20
        }
      ]
    },
    {
      "execution_count": 22,
      "cell_type": "code",
      "metadata": {
        "outputId": "bef37c50-292d-45a2-f16b-9c0bd32488ed",
        "colab": {
          "base_uri": "https://localhost:8080/",
          "height": 269
        },
        "id": "qHcf5Zmyj6Tc"
      },
      "source": [
        "#add to dataframe\ndf[\u0027Day/traffic\u0027] \u003d df[\u0027Unnamed: 0\u0027].map(day_traffic)"
      ],
      "outputs": [
        {
          "output_type": "execute_result",
          "metadata": {
            "tags": []
          },
          "data": {
            "text/html": "\u003cdiv\u003e\n\u003cstyle scoped\u003e\n    .dataframe tbody tr th:only-of-type {\n        vertical-align: middle;\n    }\n\n    .dataframe tbody tr th {\n        vertical-align: top;\n    }\n\n    .dataframe thead th {\n        text-align: right;\n    }\n\u003c/style\u003e\n\u003ctable border\u003d\"1\" class\u003d\"dataframe\"\u003e\n  \u003cthead\u003e\n    \u003ctr style\u003d\"text-align: right;\"\u003e\n      \u003cth\u003e\u003c/th\u003e\n      \u003cth\u003e0\u003c/th\u003e\n      \u003cth\u003e1\u003c/th\u003e\n    \u003c/tr\u003e\n  \u003c/thead\u003e\n  \u003ctbody\u003e\n    \u003ctr\u003e\n      \u003cth\u003e2014\u003c/th\u003e\n      \u003ctd\u003e7.128970\u003c/td\u003e\n      \u003ctd\u003e13.074115\u003c/td\u003e\n    \u003c/tr\u003e\n    \u003ctr\u003e\n      \u003cth\u003e2016\u003c/th\u003e\n      \u003ctd\u003e5.516550\u003c/td\u003e\n      \u003ctd\u003e19.669200\u003c/td\u003e\n    \u003c/tr\u003e\n    \u003ctr\u003e\n      \u003cth\u003e2015\u003c/th\u003e\n      \u003ctd\u003e7.220809\u003c/td\u003e\n      \u003ctd\u003e16.393443\u003c/td\u003e\n    \u003c/tr\u003e\n    \u003ctr\u003e\n      \u003cth\u003e2020\u003c/th\u003e\n      \u003ctd\u003e3.931731\u003c/td\u003e\n      \u003ctd\u003e12.008734\u003c/td\u003e\n    \u003c/tr\u003e\n    \u003ctr\u003e\n      \u003cth\u003e2017\u003c/th\u003e\n      \u003ctd\u003e5.428524\u003c/td\u003e\n      \u003ctd\u003e12.445605\u003c/td\u003e\n    \u003c/tr\u003e\n    \u003ctr\u003e\n      \u003cth\u003e2018\u003c/th\u003e\n      \u003ctd\u003e5.208333\u003c/td\u003e\n      \u003ctd\u003e14.570743\u003c/td\u003e\n    \u003c/tr\u003e\n    \u003ctr\u003e\n      \u003cth\u003e2019\u003c/th\u003e\n      \u003ctd\u003e9.043078\u003c/td\u003e\n      \u003ctd\u003e31.558185\u003c/td\u003e\n    \u003c/tr\u003e\n  \u003c/tbody\u003e\n\u003c/table\u003e\n\u003c/div\u003e",
            "text/plain": "             0          1\n2014  7.128970  13.074115\n2016  5.516550  19.669200\n2015  7.220809  16.393443\n2020  3.931731  12.008734\n2017  5.428524  12.445605\n2018  5.208333  14.570743\n2019  9.043078  31.558185"
          },
          "execution_count": 22
        }
      ]
    },
    {
      "execution_count": 0,
      "cell_type": "code",
      "metadata": {
        "id": "Z5xKHYhtj7Dk"
      },
      "source": [
        "#sum per days\nday_traffic_year \u003d {}\n\nfor i in df[\u0027Day\u0027].unique():\n    day \u003d df[df[\u0027Day\u0027] \u003d\u003d i]\n    day_traffic_year[i] \u003d sum(day[\u0027Day/traffic\u0027])"
      ],
      "outputs": []
    },
    {
      "execution_count": 0,
      "cell_type": "code",
      "metadata": {},
      "source": [
        "#create df/contingency table \ndf_days \u003d pd.DataFrame([day_traffic_year])"
      ],
      "outputs": []
    }
  ]
}