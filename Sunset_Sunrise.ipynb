{
  "metadata": {
    "kernelspec": {
      "display_name": "Python (env Gerda)",
      "name": "py-dku-venv-gerda",
      "language": "python"
    },
    "language_info": {
      "mimetype": "text/x-python",
      "nbconvert_exporter": "python",
      "version": "3.6.10",
      "name": "python",
      "pygments_lexer": "ipython3",
      "file_extension": ".py",
      "codemirror_mode": {
        "version": 3,
        "name": "ipython"
      }
    },
    "creator": "acheampongg",
    "modifiedBy": "acheampongg",
    "createdOn": 1620036374058,
    "tags": [],
    "customFields": {}
  },
  "nbformat": 4,
  "nbformat_minor": 4,
  "cells": [
    {
      "execution_count": 0,
      "cell_type": "code",
      "metadata": {},
      "source": [
        "%pylab inline"
      ],
      "outputs": []
    },
    {
      "execution_count": 0,
      "cell_type": "code",
      "metadata": {},
      "source": [
        "import dataiku\nfrom dataiku import pandasutils as pdu\n"
      ],
      "outputs": []
    },
    {
      "execution_count": 1,
      "cell_type": "code",
      "metadata": {},
      "source": [
        "import pandas as pd \nfrom astral import Astral\nimport datetime as datetime\nimport dateutil, pytz"
      ],
      "outputs": []
    },
    {
      "execution_count": 2,
      "cell_type": "code",
      "metadata": {},
      "source": [
        "# Example: load a DSS dataset as a Pandas dataframe\nmydataset \u003d dataiku.Dataset(\"zeeweg\")\nwegvakken \u003d mydataset.get_dataframe()"
      ],
      "outputs": []
    },
    {
      "execution_count": 3,
      "cell_type": "code",
      "metadata": {},
      "source": [
        "df.head()"
      ],
      "outputs": [
        {
          "execution_count": 3,
          "metadata": {},
          "data": {
            "text/html": "\u003cdiv\u003e\n\u003cstyle scoped\u003e\n    .dataframe tbody tr th:only-of-type {\n        vertical-align: middle;\n    }\n\n    .dataframe tbody tr th {\n        vertical-align: top;\n    }\n\n    .dataframe thead th {\n        text-align: right;\n    }\n\u003c/style\u003e\n\u003ctable border\u003d\"1\" class\u003d\"dataframe\"\u003e\n  \u003cthead\u003e\n    \u003ctr style\u003d\"text-align: right;\"\u003e\n      \u003cth\u003e\u003c/th\u003e\n      \u003cth\u003eUnnamed: 0\u003c/th\u003e\n      \u003cth\u003eUnnamed: 0.1\u003c/th\u003e\n      \u003cth\u003eUnnamed: 0.1.1\u003c/th\u003e\n      \u003cth\u003eDatum\u003c/th\u003e\n      \u003cth\u003eTijd\u003c/th\u003e\n      \u003cth\u003eAantal\u003c/th\u003e\n      \u003cth\u003eDiersoort\u003c/th\u003e\n      \u003cth\u003eWildType\u003c/th\u003e\n      \u003cth\u003eGeslacht\u003c/th\u003e\n      \u003cth\u003eDoodsoorzaak\u003c/th\u003e\n      \u003cth\u003eLongitude\u003c/th\u003e\n      \u003cth\u003eLatitude\u003c/th\u003e\n      \u003cth\u003eX\u003c/th\u003e\n      \u003cth\u003eY\u003c/th\u003e\n      \u003cth\u003eWeekdatum\u003c/th\u003e\n      \u003cth\u003eYear\u003c/th\u003e\n      \u003cth\u003eMonth\u003c/th\u003e\n      \u003cth\u003ecolor\u003c/th\u003e\n      \u003cth\u003eDay\u003c/th\u003e\n      \u003cth\u003eWeekend\u003c/th\u003e\n    \u003c/tr\u003e\n  \u003c/thead\u003e\n  \u003ctbody\u003e\n    \u003ctr\u003e\n      \u003cth\u003e0\u003c/th\u003e\n      \u003ctd\u003e0\u003c/td\u003e\n      \u003ctd\u003e0\u003c/td\u003e\n      \u003ctd\u003e279\u003c/td\u003e\n      \u003ctd\u003e2014-02-21\u003c/td\u003e\n      \u003ctd\u003e00:00:00\u003c/td\u003e\n      \u003ctd\u003e1\u003c/td\u003e\n      \u003ctd\u003eDamhert\u003c/td\u003e\n      \u003ctd\u003eMK\u003c/td\u003e\n      \u003ctd\u003em\u003c/td\u003e\n      \u003ctd\u003eaanrijding\u003c/td\u003e\n      \u003ctd\u003e4.59101\u003c/td\u003e\n      \u003ctd\u003e52.394451\u003c/td\u003e\n      \u003ctd\u003e100806.7\u003c/td\u003e\n      \u003ctd\u003e489921.3\u003c/td\u003e\n      \u003ctd\u003e2014-02-17\u003c/td\u003e\n      \u003ctd\u003e2014\u003c/td\u003e\n      \u003ctd\u003e2\u003c/td\u003e\n      \u003ctd\u003eblack\u003c/td\u003e\n      \u003ctd\u003e5\u003c/td\u003e\n      \u003ctd\u003eweekend\u003c/td\u003e\n    \u003c/tr\u003e\n    \u003ctr\u003e\n      \u003cth\u003e1\u003c/th\u003e\n      \u003ctd\u003e1\u003c/td\u003e\n      \u003ctd\u003e1\u003c/td\u003e\n      \u003ctd\u003e285\u003c/td\u003e\n      \u003ctd\u003e2016-02-21\u003c/td\u003e\n      \u003ctd\u003e00:00:00\u003c/td\u003e\n      \u003ctd\u003e1\u003c/td\u003e\n      \u003ctd\u003eDamhert\u003c/td\u003e\n      \u003ctd\u003eHE\u003c/td\u003e\n      \u003ctd\u003em\u003c/td\u003e\n      \u003ctd\u003eaanrijding\u003c/td\u003e\n      \u003ctd\u003e4.55553\u003c/td\u003e\n      \u003ctd\u003e52.403671\u003c/td\u003e\n      \u003ctd\u003e98403.6\u003c/td\u003e\n      \u003ctd\u003e490974.3\u003c/td\u003e\n      \u003ctd\u003e2016-02-15\u003c/td\u003e\n      \u003ctd\u003e2016\u003c/td\u003e\n      \u003ctd\u003e2\u003c/td\u003e\n      \u003ctd\u003eblack\u003c/td\u003e\n      \u003ctd\u003e0\u003c/td\u003e\n      \u003ctd\u003eworkday\u003c/td\u003e\n    \u003c/tr\u003e\n    \u003ctr\u003e\n      \u003cth\u003e2\u003c/th\u003e\n      \u003ctd\u003e2\u003c/td\u003e\n      \u003ctd\u003e2\u003c/td\u003e\n      \u003ctd\u003e289\u003c/td\u003e\n      \u003ctd\u003e2015-01-09\u003c/td\u003e\n      \u003ctd\u003e00:00:00\u003c/td\u003e\n      \u003ctd\u003e1\u003c/td\u003e\n      \u003ctd\u003eDamhert\u003c/td\u003e\n      \u003ctd\u003eHE\u003c/td\u003e\n      \u003ctd\u003em\u003c/td\u003e\n      \u003ctd\u003eaanrijding\u003c/td\u003e\n      \u003ctd\u003e4.59138\u003c/td\u003e\n      \u003ctd\u003e52.394798\u003c/td\u003e\n      \u003ctd\u003e100832.3\u003c/td\u003e\n      \u003ctd\u003e489959.9\u003c/td\u003e\n      \u003ctd\u003e2015-01-05\u003c/td\u003e\n      \u003ctd\u003e2015\u003c/td\u003e\n      \u003ctd\u003e1\u003c/td\u003e\n      \u003ctd\u003eblack\u003c/td\u003e\n      \u003ctd\u003e5\u003c/td\u003e\n      \u003ctd\u003eweekend\u003c/td\u003e\n    \u003c/tr\u003e\n    \u003ctr\u003e\n      \u003cth\u003e3\u003c/th\u003e\n      \u003ctd\u003e3\u003c/td\u003e\n      \u003ctd\u003e3\u003c/td\u003e\n      \u003ctd\u003e291\u003c/td\u003e\n      \u003ctd\u003e2016-01-15\u003c/td\u003e\n      \u003ctd\u003e05:05:00\u003c/td\u003e\n      \u003ctd\u003e1\u003c/td\u003e\n      \u003ctd\u003eDamhert\u003c/td\u003e\n      \u003ctd\u003eSP\u003c/td\u003e\n      \u003ctd\u003em\u003c/td\u003e\n      \u003ctd\u003eaanrijding\u003c/td\u003e\n      \u003ctd\u003e4.58457\u003c/td\u003e\n      \u003ctd\u003e52.397289\u003c/td\u003e\n      \u003ctd\u003e100371.9\u003c/td\u003e\n      \u003ctd\u003e490242.1\u003c/td\u003e\n      \u003ctd\u003e2016-01-11\u003c/td\u003e\n      \u003ctd\u003e2016\u003c/td\u003e\n      \u003ctd\u003e1\u003c/td\u003e\n      \u003ctd\u003eblack\u003c/td\u003e\n      \u003ctd\u003e5\u003c/td\u003e\n      \u003ctd\u003eweekend\u003c/td\u003e\n    \u003c/tr\u003e\n    \u003ctr\u003e\n      \u003cth\u003e4\u003c/th\u003e\n      \u003ctd\u003e4\u003c/td\u003e\n      \u003ctd\u003e4\u003c/td\u003e\n      \u003ctd\u003e292\u003c/td\u003e\n      \u003ctd\u003e2016-02-12\u003c/td\u003e\n      \u003ctd\u003e00:00:00\u003c/td\u003e\n      \u003ctd\u003e1\u003c/td\u003e\n      \u003ctd\u003eDamhert\u003c/td\u003e\n      \u003ctd\u003eHE\u003c/td\u003e\n      \u003ctd\u003em\u003c/td\u003e\n      \u003ctd\u003eaanrijding\u003c/td\u003e\n      \u003ctd\u003e4.55920\u003c/td\u003e\n      \u003ctd\u003e52.401371\u003c/td\u003e\n      \u003ctd\u003e98650.4\u003c/td\u003e\n      \u003ctd\u003e490715.5\u003c/td\u003e\n      \u003ctd\u003e2016-02-08\u003c/td\u003e\n      \u003ctd\u003e2016\u003c/td\u003e\n      \u003ctd\u003e2\u003c/td\u003e\n      \u003ctd\u003eblack\u003c/td\u003e\n      \u003ctd\u003e5\u003c/td\u003e\n      \u003ctd\u003eweekend\u003c/td\u003e\n    \u003c/tr\u003e\n  \u003c/tbody\u003e\n\u003c/table\u003e\n\u003c/div\u003e",
            "text/plain": "   Unnamed: 0  Unnamed: 0.1  Unnamed: 0.1.1      Datum      Tijd  Aantal  \\\n0           0             0             279 2014-02-21  00:00:00       1   \n1           1             1             285 2016-02-21  00:00:00       1   \n2           2             2             289 2015-01-09  00:00:00       1   \n3           3             3             291 2016-01-15  05:05:00       1   \n4           4             4             292 2016-02-12  00:00:00       1   \n\n  Diersoort WildType Geslacht Doodsoorzaak  Longitude   Latitude         X  \\\n0   Damhert       MK        m   aanrijding    4.59101  52.394451  100806.7   \n1   Damhert       HE        m   aanrijding    4.55553  52.403671   98403.6   \n2   Damhert       HE        m   aanrijding    4.59138  52.394798  100832.3   \n3   Damhert       SP        m   aanrijding    4.58457  52.397289  100371.9   \n4   Damhert       HE        m   aanrijding    4.55920  52.401371   98650.4   \n\n          Y  Weekdatum  Year  Month  color  Day  Weekend  \n0  489921.3 2014-02-17  2014      2  black    5  weekend  \n1  490974.3 2016-02-15  2016      2  black    0  workday  \n2  489959.9 2015-01-05  2015      1  black    5  weekend  \n3  490242.1 2016-01-11  2016      1  black    5  weekend  \n4  490715.5 2016-02-08  2016      2  black    5  weekend  "
          },
          "output_type": "execute_result"
        }
      ]
    },
    {
      "execution_count": 98,
      "cell_type": "code",
      "metadata": {},
      "source": [
        "df.head()"
      ],
      "outputs": [
        {
          "execution_count": 98,
          "metadata": {},
          "data": {
            "text/html": "\u003cdiv\u003e\n\u003cstyle scoped\u003e\n    .dataframe tbody tr th:only-of-type {\n        vertical-align: middle;\n    }\n\n    .dataframe tbody tr th {\n        vertical-align: top;\n    }\n\n    .dataframe thead th {\n        text-align: right;\n    }\n\u003c/style\u003e\n\u003ctable border\u003d\"1\" class\u003d\"dataframe\"\u003e\n  \u003cthead\u003e\n    \u003ctr style\u003d\"text-align: right;\"\u003e\n      \u003cth\u003e\u003c/th\u003e\n      \u003cth\u003eUnnamed: 0\u003c/th\u003e\n      \u003cth\u003eDatum\u003c/th\u003e\n      \u003cth\u003eTijd\u003c/th\u003e\n      \u003cth\u003eAantal\u003c/th\u003e\n      \u003cth\u003eDiersoort\u003c/th\u003e\n      \u003cth\u003eWildType\u003c/th\u003e\n      \u003cth\u003eGeslacht\u003c/th\u003e\n      \u003cth\u003eDoodsoorzaak\u003c/th\u003e\n      \u003cth\u003eLongitude\u003c/th\u003e\n      \u003cth\u003eLatitude\u003c/th\u003e\n      \u003cth\u003eX\u003c/th\u003e\n      \u003cth\u003eY\u003c/th\u003e\n      \u003cth\u003eWeekdatum\u003c/th\u003e\n      \u003cth\u003eYear\u003c/th\u003e\n      \u003cth\u003eMonth\u003c/th\u003e\n      \u003cth\u003ecolor\u003c/th\u003e\n      \u003cth\u003eindex\u003c/th\u003e\n      \u003cth\u003ehour\u003c/th\u003e\n    \u003c/tr\u003e\n  \u003c/thead\u003e\n  \u003ctbody\u003e\n    \u003ctr\u003e\n      \u003cth\u003e0\u003c/th\u003e\n      \u003ctd\u003e279\u003c/td\u003e\n      \u003ctd\u003e2014-02-21\u003c/td\u003e\n      \u003ctd\u003e00:00:00\u003c/td\u003e\n      \u003ctd\u003e1\u003c/td\u003e\n      \u003ctd\u003eDamhert\u003c/td\u003e\n      \u003ctd\u003eMK\u003c/td\u003e\n      \u003ctd\u003em\u003c/td\u003e\n      \u003ctd\u003eaanrijding\u003c/td\u003e\n      \u003ctd\u003e4.59101\u003c/td\u003e\n      \u003ctd\u003e52.394451\u003c/td\u003e\n      \u003ctd\u003e100806.7\u003c/td\u003e\n      \u003ctd\u003e489921.3\u003c/td\u003e\n      \u003ctd\u003e2014-02-17\u003c/td\u003e\n      \u003ctd\u003e2014\u003c/td\u003e\n      \u003ctd\u003e2\u003c/td\u003e\n      \u003ctd\u003eblack\u003c/td\u003e\n      \u003ctd\u003e0\u003c/td\u003e\n      \u003ctd\u003e1\u003c/td\u003e\n    \u003c/tr\u003e\n    \u003ctr\u003e\n      \u003cth\u003e1\u003c/th\u003e\n      \u003ctd\u003e285\u003c/td\u003e\n      \u003ctd\u003e2016-02-21\u003c/td\u003e\n      \u003ctd\u003e00:00:00\u003c/td\u003e\n      \u003ctd\u003e1\u003c/td\u003e\n      \u003ctd\u003eDamhert\u003c/td\u003e\n      \u003ctd\u003eHE\u003c/td\u003e\n      \u003ctd\u003em\u003c/td\u003e\n      \u003ctd\u003eaanrijding\u003c/td\u003e\n      \u003ctd\u003e4.55553\u003c/td\u003e\n      \u003ctd\u003e52.403671\u003c/td\u003e\n      \u003ctd\u003e98403.6\u003c/td\u003e\n      \u003ctd\u003e490974.3\u003c/td\u003e\n      \u003ctd\u003e2016-02-15\u003c/td\u003e\n      \u003ctd\u003e2016\u003c/td\u003e\n      \u003ctd\u003e2\u003c/td\u003e\n      \u003ctd\u003eblack\u003c/td\u003e\n      \u003ctd\u003e1\u003c/td\u003e\n      \u003ctd\u003e1\u003c/td\u003e\n    \u003c/tr\u003e\n    \u003ctr\u003e\n      \u003cth\u003e2\u003c/th\u003e\n      \u003ctd\u003e289\u003c/td\u003e\n      \u003ctd\u003e2015-01-09\u003c/td\u003e\n      \u003ctd\u003e00:00:00\u003c/td\u003e\n      \u003ctd\u003e1\u003c/td\u003e\n      \u003ctd\u003eDamhert\u003c/td\u003e\n      \u003ctd\u003eHE\u003c/td\u003e\n      \u003ctd\u003em\u003c/td\u003e\n      \u003ctd\u003eaanrijding\u003c/td\u003e\n      \u003ctd\u003e4.59138\u003c/td\u003e\n      \u003ctd\u003e52.394798\u003c/td\u003e\n      \u003ctd\u003e100832.3\u003c/td\u003e\n      \u003ctd\u003e489959.9\u003c/td\u003e\n      \u003ctd\u003e2015-01-05\u003c/td\u003e\n      \u003ctd\u003e2015\u003c/td\u003e\n      \u003ctd\u003e1\u003c/td\u003e\n      \u003ctd\u003eblack\u003c/td\u003e\n      \u003ctd\u003e2\u003c/td\u003e\n      \u003ctd\u003e1\u003c/td\u003e\n    \u003c/tr\u003e\n    \u003ctr\u003e\n      \u003cth\u003e3\u003c/th\u003e\n      \u003ctd\u003e291\u003c/td\u003e\n      \u003ctd\u003e2016-01-15\u003c/td\u003e\n      \u003ctd\u003e05:05:00\u003c/td\u003e\n      \u003ctd\u003e1\u003c/td\u003e\n      \u003ctd\u003eDamhert\u003c/td\u003e\n      \u003ctd\u003eSP\u003c/td\u003e\n      \u003ctd\u003em\u003c/td\u003e\n      \u003ctd\u003eaanrijding\u003c/td\u003e\n      \u003ctd\u003e4.58457\u003c/td\u003e\n      \u003ctd\u003e52.397289\u003c/td\u003e\n      \u003ctd\u003e100371.9\u003c/td\u003e\n      \u003ctd\u003e490242.1\u003c/td\u003e\n      \u003ctd\u003e2016-01-11\u003c/td\u003e\n      \u003ctd\u003e2016\u003c/td\u003e\n      \u003ctd\u003e1\u003c/td\u003e\n      \u003ctd\u003eblack\u003c/td\u003e\n      \u003ctd\u003e3\u003c/td\u003e\n      \u003ctd\u003e6\u003c/td\u003e\n    \u003c/tr\u003e\n    \u003ctr\u003e\n      \u003cth\u003e4\u003c/th\u003e\n      \u003ctd\u003e292\u003c/td\u003e\n      \u003ctd\u003e2016-02-12\u003c/td\u003e\n      \u003ctd\u003e00:00:00\u003c/td\u003e\n      \u003ctd\u003e1\u003c/td\u003e\n      \u003ctd\u003eDamhert\u003c/td\u003e\n      \u003ctd\u003eHE\u003c/td\u003e\n      \u003ctd\u003em\u003c/td\u003e\n      \u003ctd\u003eaanrijding\u003c/td\u003e\n      \u003ctd\u003e4.55920\u003c/td\u003e\n      \u003ctd\u003e52.401371\u003c/td\u003e\n      \u003ctd\u003e98650.4\u003c/td\u003e\n      \u003ctd\u003e490715.5\u003c/td\u003e\n      \u003ctd\u003e2016-02-08\u003c/td\u003e\n      \u003ctd\u003e2016\u003c/td\u003e\n      \u003ctd\u003e2\u003c/td\u003e\n      \u003ctd\u003eblack\u003c/td\u003e\n      \u003ctd\u003e4\u003c/td\u003e\n      \u003ctd\u003e1\u003c/td\u003e\n    \u003c/tr\u003e\n  \u003c/tbody\u003e\n\u003c/table\u003e\n\u003c/div\u003e",
            "text/plain": "   Unnamed: 0      Datum      Tijd  Aantal Diersoort WildType Geslacht  \\\n0         279 2014-02-21  00:00:00       1   Damhert       MK        m   \n1         285 2016-02-21  00:00:00       1   Damhert       HE        m   \n2         289 2015-01-09  00:00:00       1   Damhert       HE        m   \n3         291 2016-01-15  05:05:00       1   Damhert       SP        m   \n4         292 2016-02-12  00:00:00       1   Damhert       HE        m   \n\n  Doodsoorzaak  Longitude   Latitude         X         Y  Weekdatum  Year  \\\n0   aanrijding    4.59101  52.394451  100806.7  489921.3 2014-02-17  2014   \n1   aanrijding    4.55553  52.403671   98403.6  490974.3 2016-02-15  2016   \n2   aanrijding    4.59138  52.394798  100832.3  489959.9 2015-01-05  2015   \n3   aanrijding    4.58457  52.397289  100371.9  490242.1 2016-01-11  2016   \n4   aanrijding    4.55920  52.401371   98650.4  490715.5 2016-02-08  2016   \n\n   Month  color  index  hour  \n0      2  black      0     1  \n1      2  black      1     1  \n2      1  black      2     1  \n3      1  black      3     6  \n4      2  black      4     1  "
          },
          "output_type": "execute_result"
        }
      ]
    },
    {
      "execution_count": 42,
      "cell_type": "code",
      "metadata": {},
      "source": [
        "# check if time between sunrise and sunset\n#save to dictionary \ndaylight \u003d {}\n\ncity_name \u003d \u0027Amsterdam\u0027\na \u003d Astral()\na.solar_depression \u003d \u0027civil\u0027\ncity \u003d a[city_name]\nfor i in range(0, 171):\n    date \u003d df.iloc[i][\u0027Datum\u0027]\n    time \u003d date.strftime(\"%Y-%m-%d\")\n    T \u003d datetime.datetime.combine(datetime.date(int(time[:4]),\n        int(time[5:7]), int(time[8:10])), \n        datetime.time(int(df.iloc[i][\u0027Tijd\u0027][:2]), int(df.iloc[i][\u0027Tijd\u0027][3:5])))\n    sun \u003d city.sun(date\u003ddatetime.date(int(time[:4]),\n        int(time[5:7]), int(time[8:10])), local\u003dTrue)\n    now \u003d pytz.utc.localize(T)\n    if (sun[\u0027sunrise\u0027] \u003c now \u003c sun[\u0027sunset\u0027]):\n        daylight[i] \u003d \u0027Y\u0027\n    else:\n        daylight[i] \u003d \u0027N\u0027\n       "
      ],
      "outputs": []
    },
    {
      "execution_count": 35,
      "cell_type": "code",
      "metadata": {},
      "source": [
        "#add daylight dict to df\n\ndf[\u0027Daylight\u0027] \u003d df[\u0027Unnamed: 0\u0027].map(daylight)"
      ],
      "outputs": []
    },
    {
      "execution_count": 37,
      "cell_type": "code",
      "metadata": {},
      "source": [
        "df.head()"
      ],
      "outputs": [
        {
          "execution_count": 37,
          "metadata": {},
          "data": {
            "text/html": "\u003cdiv\u003e\n\u003cstyle scoped\u003e\n    .dataframe tbody tr th:only-of-type {\n        vertical-align: middle;\n    }\n\n    .dataframe tbody tr th {\n        vertical-align: top;\n    }\n\n    .dataframe thead th {\n        text-align: right;\n    }\n\u003c/style\u003e\n\u003ctable border\u003d\"1\" class\u003d\"dataframe\"\u003e\n  \u003cthead\u003e\n    \u003ctr style\u003d\"text-align: right;\"\u003e\n      \u003cth\u003e\u003c/th\u003e\n      \u003cth\u003eUnnamed: 0\u003c/th\u003e\n      \u003cth\u003eUnnamed: 0.1\u003c/th\u003e\n      \u003cth\u003eUnnamed: 0.1.1\u003c/th\u003e\n      \u003cth\u003eDatum\u003c/th\u003e\n      \u003cth\u003eTijd\u003c/th\u003e\n      \u003cth\u003eAantal\u003c/th\u003e\n      \u003cth\u003eDiersoort\u003c/th\u003e\n      \u003cth\u003eWildType\u003c/th\u003e\n      \u003cth\u003eGeslacht\u003c/th\u003e\n      \u003cth\u003eDoodsoorzaak\u003c/th\u003e\n      \u003cth\u003e...\u003c/th\u003e\n      \u003cth\u003eLatitude\u003c/th\u003e\n      \u003cth\u003eX\u003c/th\u003e\n      \u003cth\u003eY\u003c/th\u003e\n      \u003cth\u003eWeekdatum\u003c/th\u003e\n      \u003cth\u003eYear\u003c/th\u003e\n      \u003cth\u003eMonth\u003c/th\u003e\n      \u003cth\u003ecolor\u003c/th\u003e\n      \u003cth\u003eDay\u003c/th\u003e\n      \u003cth\u003eWeekend\u003c/th\u003e\n      \u003cth\u003eDaylight\u003c/th\u003e\n    \u003c/tr\u003e\n  \u003c/thead\u003e\n  \u003ctbody\u003e\n    \u003ctr\u003e\n      \u003cth\u003e0\u003c/th\u003e\n      \u003ctd\u003e0\u003c/td\u003e\n      \u003ctd\u003e0\u003c/td\u003e\n      \u003ctd\u003e279\u003c/td\u003e\n      \u003ctd\u003e2014-02-21\u003c/td\u003e\n      \u003ctd\u003e00:00:00\u003c/td\u003e\n      \u003ctd\u003e1\u003c/td\u003e\n      \u003ctd\u003eDamhert\u003c/td\u003e\n      \u003ctd\u003eMK\u003c/td\u003e\n      \u003ctd\u003em\u003c/td\u003e\n      \u003ctd\u003eaanrijding\u003c/td\u003e\n      \u003ctd\u003e...\u003c/td\u003e\n      \u003ctd\u003e52.394451\u003c/td\u003e\n      \u003ctd\u003e100806.7\u003c/td\u003e\n      \u003ctd\u003e489921.3\u003c/td\u003e\n      \u003ctd\u003e2014-02-17\u003c/td\u003e\n      \u003ctd\u003e2014\u003c/td\u003e\n      \u003ctd\u003e2\u003c/td\u003e\n      \u003ctd\u003eblack\u003c/td\u003e\n      \u003ctd\u003e5\u003c/td\u003e\n      \u003ctd\u003eweekend\u003c/td\u003e\n      \u003ctd\u003eN\u003c/td\u003e\n    \u003c/tr\u003e\n    \u003ctr\u003e\n      \u003cth\u003e1\u003c/th\u003e\n      \u003ctd\u003e1\u003c/td\u003e\n      \u003ctd\u003e1\u003c/td\u003e\n      \u003ctd\u003e285\u003c/td\u003e\n      \u003ctd\u003e2016-02-21\u003c/td\u003e\n      \u003ctd\u003e00:00:00\u003c/td\u003e\n      \u003ctd\u003e1\u003c/td\u003e\n      \u003ctd\u003eDamhert\u003c/td\u003e\n      \u003ctd\u003eHE\u003c/td\u003e\n      \u003ctd\u003em\u003c/td\u003e\n      \u003ctd\u003eaanrijding\u003c/td\u003e\n      \u003ctd\u003e...\u003c/td\u003e\n      \u003ctd\u003e52.403671\u003c/td\u003e\n      \u003ctd\u003e98403.6\u003c/td\u003e\n      \u003ctd\u003e490974.3\u003c/td\u003e\n      \u003ctd\u003e2016-02-15\u003c/td\u003e\n      \u003ctd\u003e2016\u003c/td\u003e\n      \u003ctd\u003e2\u003c/td\u003e\n      \u003ctd\u003eblack\u003c/td\u003e\n      \u003ctd\u003e0\u003c/td\u003e\n      \u003ctd\u003eworkday\u003c/td\u003e\n      \u003ctd\u003eN\u003c/td\u003e\n    \u003c/tr\u003e\n    \u003ctr\u003e\n      \u003cth\u003e2\u003c/th\u003e\n      \u003ctd\u003e2\u003c/td\u003e\n      \u003ctd\u003e2\u003c/td\u003e\n      \u003ctd\u003e289\u003c/td\u003e\n      \u003ctd\u003e2015-01-09\u003c/td\u003e\n      \u003ctd\u003e00:00:00\u003c/td\u003e\n      \u003ctd\u003e1\u003c/td\u003e\n      \u003ctd\u003eDamhert\u003c/td\u003e\n      \u003ctd\u003eHE\u003c/td\u003e\n      \u003ctd\u003em\u003c/td\u003e\n      \u003ctd\u003eaanrijding\u003c/td\u003e\n      \u003ctd\u003e...\u003c/td\u003e\n      \u003ctd\u003e52.394798\u003c/td\u003e\n      \u003ctd\u003e100832.3\u003c/td\u003e\n      \u003ctd\u003e489959.9\u003c/td\u003e\n      \u003ctd\u003e2015-01-05\u003c/td\u003e\n      \u003ctd\u003e2015\u003c/td\u003e\n      \u003ctd\u003e1\u003c/td\u003e\n      \u003ctd\u003eblack\u003c/td\u003e\n      \u003ctd\u003e5\u003c/td\u003e\n      \u003ctd\u003eweekend\u003c/td\u003e\n      \u003ctd\u003eN\u003c/td\u003e\n    \u003c/tr\u003e\n    \u003ctr\u003e\n      \u003cth\u003e3\u003c/th\u003e\n      \u003ctd\u003e3\u003c/td\u003e\n      \u003ctd\u003e3\u003c/td\u003e\n      \u003ctd\u003e291\u003c/td\u003e\n      \u003ctd\u003e2016-01-15\u003c/td\u003e\n      \u003ctd\u003e05:05:00\u003c/td\u003e\n      \u003ctd\u003e1\u003c/td\u003e\n      \u003ctd\u003eDamhert\u003c/td\u003e\n      \u003ctd\u003eSP\u003c/td\u003e\n      \u003ctd\u003em\u003c/td\u003e\n      \u003ctd\u003eaanrijding\u003c/td\u003e\n      \u003ctd\u003e...\u003c/td\u003e\n      \u003ctd\u003e52.397289\u003c/td\u003e\n      \u003ctd\u003e100371.9\u003c/td\u003e\n      \u003ctd\u003e490242.1\u003c/td\u003e\n      \u003ctd\u003e2016-01-11\u003c/td\u003e\n      \u003ctd\u003e2016\u003c/td\u003e\n      \u003ctd\u003e1\u003c/td\u003e\n      \u003ctd\u003eblack\u003c/td\u003e\n      \u003ctd\u003e5\u003c/td\u003e\n      \u003ctd\u003eweekend\u003c/td\u003e\n      \u003ctd\u003eN\u003c/td\u003e\n    \u003c/tr\u003e\n    \u003ctr\u003e\n      \u003cth\u003e4\u003c/th\u003e\n      \u003ctd\u003e4\u003c/td\u003e\n      \u003ctd\u003e4\u003c/td\u003e\n      \u003ctd\u003e292\u003c/td\u003e\n      \u003ctd\u003e2016-02-12\u003c/td\u003e\n      \u003ctd\u003e00:00:00\u003c/td\u003e\n      \u003ctd\u003e1\u003c/td\u003e\n      \u003ctd\u003eDamhert\u003c/td\u003e\n      \u003ctd\u003eHE\u003c/td\u003e\n      \u003ctd\u003em\u003c/td\u003e\n      \u003ctd\u003eaanrijding\u003c/td\u003e\n      \u003ctd\u003e...\u003c/td\u003e\n      \u003ctd\u003e52.401371\u003c/td\u003e\n      \u003ctd\u003e98650.4\u003c/td\u003e\n      \u003ctd\u003e490715.5\u003c/td\u003e\n      \u003ctd\u003e2016-02-08\u003c/td\u003e\n      \u003ctd\u003e2016\u003c/td\u003e\n      \u003ctd\u003e2\u003c/td\u003e\n      \u003ctd\u003eblack\u003c/td\u003e\n      \u003ctd\u003e5\u003c/td\u003e\n      \u003ctd\u003eweekend\u003c/td\u003e\n      \u003ctd\u003eN\u003c/td\u003e\n    \u003c/tr\u003e\n  \u003c/tbody\u003e\n\u003c/table\u003e\n\u003cp\u003e5 rows × 21 columns\u003c/p\u003e\n\u003c/div\u003e",
            "text/plain": "   Unnamed: 0  Unnamed: 0.1  Unnamed: 0.1.1      Datum      Tijd  Aantal  \\\n0           0             0             279 2014-02-21  00:00:00       1   \n1           1             1             285 2016-02-21  00:00:00       1   \n2           2             2             289 2015-01-09  00:00:00       1   \n3           3             3             291 2016-01-15  05:05:00       1   \n4           4             4             292 2016-02-12  00:00:00       1   \n\n  Diersoort WildType Geslacht Doodsoorzaak  ...   Latitude         X  \\\n0   Damhert       MK        m   aanrijding  ...  52.394451  100806.7   \n1   Damhert       HE        m   aanrijding  ...  52.403671   98403.6   \n2   Damhert       HE        m   aanrijding  ...  52.394798  100832.3   \n3   Damhert       SP        m   aanrijding  ...  52.397289  100371.9   \n4   Damhert       HE        m   aanrijding  ...  52.401371   98650.4   \n\n          Y  Weekdatum  Year  Month  color Day  Weekend Daylight  \n0  489921.3 2014-02-17  2014      2  black   5  weekend        N  \n1  490974.3 2016-02-15  2016      2  black   0  workday        N  \n2  489959.9 2015-01-05  2015      1  black   5  weekend        N  \n3  490242.1 2016-01-11  2016      1  black   5  weekend        N  \n4  490715.5 2016-02-08  2016      2  black   5  weekend        N  \n\n[5 rows x 21 columns]"
          },
          "output_type": "execute_result"
        }
      ]
    },
    {
      "execution_count": 0,
      "cell_type": "code",
      "metadata": {},
      "source": [
        ""
      ],
      "outputs": []
    }
  ]
}