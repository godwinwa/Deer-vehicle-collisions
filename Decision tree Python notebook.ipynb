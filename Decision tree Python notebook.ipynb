{
  "metadata": {
    "kernelspec": {
      "display_name": "Python 2",
      "name": "python2",
      "language": "python"
    },
    "language_info": {
      "mimetype": "text/x-python",
      "nbconvert_exporter": "python",
      "version": "2.7.18",
      "name": "python",
      "pygments_lexer": "ipython2",
      "file_extension": ".py",
      "codemirror_mode": {
        "version": 2,
        "name": "ipython"
      }
    },
    "tags": [],
    "modifiedBy": "acheampongg",
    "createdOn": 1625040115544,
    "creator": "acheampongg",
    "customFields": {}
  },
  "nbformat": 4,
  "nbformat_minor": 1,
  "cells": [
    {
      "execution_count": 0,
      "cell_type": "code",
      "metadata": {},
      "source": [
        "%pylab inline"
      ],
      "outputs": []
    },
    {
      "execution_count": 0,
      "cell_type": "code",
      "metadata": {},
      "source": [
        "import dataiku\nfrom dataiku import pandasutils as pdu\nimport pandas as pd"
      ],
      "outputs": []
    },
    {
      "execution_count": 0,
      "cell_type": "code",
      "metadata": {},
      "source": [
        "# Example: load a DSS dataset as a Pandas dataframe\nmydataset \u003d dataiku.Dataset(\"mydataset\")\nmydataset_df \u003d mydataset.get_dataframe()"
      ],
      "outputs": []
    },
    {
      "execution_count": 0,
      "cell_type": "code",
      "metadata": {},
      "source": [
        "#decision tree model\ndef findDecision(obj): #obj[0]: Distance_81_x_max, obj[1]: Afstand_zeebrug_x_max, obj[2]: Distance_Parking_x_max\n    # {\"feature\": \"Distance_81_x_max\", \"instances\": 70, \"metric_value\": 0.1573, \"depth\": 1}\n    if obj[0]\u003c\u003d603.2581029518215:\n        # {\"feature\": \"Distance_Parking_x_max\", \"instances\": 38, \"metric_value\": 0.0981, \"depth\": 2}\n        if obj[2]\u003c\u003d663.7090107070762:\n            # {\"feature\": \"Afstand_zeebrug_x_max\", \"instances\": 32, \"metric_value\": 0.0739, \"depth\": 3}\n            if obj[1]\u003c\u003d2077.6176916835407:\n                return 1.0\n            elif obj[1]\u003e2077.6176916835407:\n                return 1.0\n            else: return 1.0\n        elif obj[2]\u003e663.7090107070762:\n            # {\"feature\": \"Afstand_zeebrug_x_max\", \"instances\": 6, \"metric_value\": 0.3555, \"depth\": 3}\n            if obj[1]\u003e-1.0:\n                return 2.0\n            elif obj[1]\u003c\u003d-1.0:\n                return 2.0\n            else: return 2.0\n        else: return 2.5\n    elif obj[0]\u003e603.2581029518215:\n        # {\"feature\": \"Afstand_zeebrug_x_max\", \"instances\": 32, \"metric_value\": 0.1534, \"depth\": 2}\n        if obj[1]\u003c\u003d131.66573889042914:\n            # {\"feature\": \"Distance_Parking_x_max\", \"instances\": 20, \"metric_value\": 0.4681, \"depth\": 3}\n            if obj[2]\u003c\u003d1006.2364576109401:\n                return 1.0\n            elif obj[2]\u003e1006.2364576109401:\n                return 5.0\n            else: return 5.0\n        elif obj[1]\u003e131.66573889042914:\n            # {\"feature\": \"Distance_Parking_x_max\", \"instances\": 12, \"metric_value\": 0.1593, \"depth\": 3}\n            if obj[2]\u003c\u003d632.109594661415:\n                return 4.0\n            elif obj[2]\u003e632.109594661415:\n                return 3.0\n            else: return 3.0\n        else: return 3.5833333333333335\n    else: return 2.625\n"
      ],
      "outputs": []
    }
  ]
}