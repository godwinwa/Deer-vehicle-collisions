{
  "metadata": {
    "kernelspec": {
      "display_name": "Python (env Gerda)",
      "name": "py-dku-venv-gerda",
      "language": "python"
    },
    "language_info": {
      "mimetype": "text/x-python",
      "nbconvert_exporter": "python",
      "version": "3.6.10",
      "name": "python",
      "pygments_lexer": "ipython3",
      "file_extension": ".py",
      "codemirror_mode": {
        "version": 3,
        "name": "ipython"
      }
    },
    "creator": "acheampongg",
    "associatedRecipe": "recipe_from_notebook_road_dataset_Python_notebook",
    "createdOn": 1620907902656,
    "tags": [
      "recipe-editor"
    ],
    "modifiedBy": "acheampongg",
    "customFields": {}
  },
  "nbformat": 4,
  "nbformat_minor": 1,
  "cells": [
    {
      "execution_count": 1,
      "cell_type": "code",
      "metadata": {},
      "source": [
        "%pylab inline"
      ],
      "outputs": [
        {
          "output_type": "stream",
          "name": "stdout",
          "text": "Populating the interactive namespace from numpy and matplotlib\n"
        }
      ]
    },
    {
      "execution_count": 2,
      "cell_type": "code",
      "metadata": {},
      "source": [
        "import dataiku\nimport pandas as pd, numpy as np\nfrom dataiku import pandasutils as pdu"
      ],
      "outputs": []
    },
    {
      "execution_count": 22,
      "cell_type": "code",
      "metadata": {},
      "source": [
        "import requests\nimport json\nfrom pandas.io.json import json_normalize\nfrom itertools import islice\nimport geopandas as gpd\nfrom shapely import wkt"
      ],
      "outputs": []
    },
    {
      "execution_count": 4,
      "cell_type": "code",
      "metadata": {},
      "source": [
        "# Envelope rond de provinciegrenzen doorzoeken. Alle objectids die daar binnen vallen downloaden en op een rijtje zetten.\nenvelope \u003d \u002793003.99999999802+464251.5000000022+154328.6700000043+580999.9999999997\u0027 # Polygoon van NH trekt hij niet.\n# In deze query wordt wegdeel_v gedownload. Dat is laag nummer 112. Aanpassen voor andere dataset.\nlaag \u003d \u0027https://geoservices.noord-holland.nl/ags/rest/services/oi_op/oi_areaal/MapServer/52\u0027"
      ],
      "outputs": []
    },
    {
      "execution_count": 5,
      "cell_type": "code",
      "metadata": {},
      "source": [
        "laaginfo \u003d requests.get(laag+ \u0027?f\u003dpjson\u0027)\ninfo \u003d json_normalize(json.loads(laaginfo.content))\ninfo_df \u003d json_normalize(info.fields[0])\nfieldsdf \u003d info_df.name\nfields \u003d fieldsdf.tolist()\nfields"
      ],
      "outputs": [
        {
          "output_type": "execute_result",
          "metadata": {},
          "data": {
            "text/plain": "[\u0027objectid\u0027,\n \u0027materiaaltype\u0027,\n \u0027ad_id\u0027,\n \u0027verwerkingsstatus\u0027,\n \u0027objectbegintijd\u0027,\n \u0027objecteindtijd\u0027,\n \u0027beheerder\u0027,\n \u0027typespec\u0027,\n \u0027naam\u0027,\n \u0027lengte\u0027,\n \u0027opmerking\u0027,\n \u0027shape\u0027,\n \u0027st_length(shape)\u0027]"
          },
          "execution_count": 5
        }
      ]
    },
    {
      "execution_count": 6,
      "cell_type": "code",
      "metadata": {},
      "source": [
        "query \u003d laag +\u0027/query?where\u003d\u0026text\u003d\u0026objectIds\u003d\u0026time\u003d\u0026geometry\u003d\u0027+ envelope + \u0027\u0026geometryType\u003desriGeometryEnvelope\u0026inSR\u003d\u0026spatialRel\u003desriSpatialRelIntersects\u0026relationParam\u003d\u0026outFields\u003d\u0026returnGeometry\u003dfalse\u0026returnTrueCurves\u003dfalse\u0026maxAllowableOffset\u003d\u0026geometryPrecision\u003d\u0026outSR\u003d\u0026having\u003d\u0026returnIdsOnly\u003dtrue\u0026returnCountOnly\u003dfalse\u0026orderByFields\u003d\u0026groupByFieldsForStatistics\u003d\u0026outStatistics\u003d\u0026returnZ\u003dfalse\u0026returnM\u003dfalse\u0026gdbVersion\u003d\u0026historicMoment\u003d\u0026returnDistinctValues\u003dfalse\u0026resultOffset\u003d\u0026resultRecordCount\u003d\u0026queryByDistance\u003d\u0026returnExtentOnly\u003dfalse\u0026datumTransformation\u003d\u0026parameterValues\u003d\u0026rangeValues\u003d\u0026quantizationParameters\u003d\u0026f\u003dpjson\u0027\nr \u003d  requests.get(query, verify\u003dFalse)\ndf \u003d json_normalize(json.loads(r.content))\ndf.objectIds[0][0]\nobjectIds_list \u003d df.objectIds[0]"
      ],
      "outputs": [
        {
          "output_type": "stream",
          "name": "stderr",
          "text": "/home/dataiku/dss/code-envs/python/Gerda/lib/python3.6/site-packages/urllib3/connectionpool.py:1004: InsecureRequestWarning: Unverified HTTPS request is being made to host \u0027geoservices.noord-holland.nl\u0027. Adding certificate verification is strongly advised. See: https://urllib3.readthedocs.io/en/latest/advanced-usage.html#ssl-warnings\n  InsecureRequestWarning,\n"
        }
      ]
    },
    {
      "execution_count": 7,
      "cell_type": "code",
      "metadata": {},
      "source": [
        "# Velden kiezen die je wilt downloaden en in het juiste format zetten of alles houden.\n#fields \u003d [\u0027SHAPE\u0027,\u0027WEGBEHSRT\u0027,\u0027WEGNUMMER\u0027,\u0027WEGDEELLTR\u0027,\u0027HECTO_LTTR\u0027,\u0027BAANSUBSRT\u0027,\u0027RPE_CODE\u0027, \u0027ADMRICHTNG\u0027, \u0027RIJRICHTNG\u0027,\u0027STT_NAAM\u0027,\u0027WPSNAAMNEN\u0027,\u0027OBJECTID_1\u0027,\u0027OBJECTID\u0027]\nfieldsstring \u003d \u0027\u0027\nfor f in range(0,len(fields)):\n    field \u003d fields[f]\n    if fieldsstring \u003d\u003d \u0027\u0027:\n        fieldsstring \u003d field\n    else:\n        fieldsstring \u003d fieldsstring + \u0027%2C+\u0027 + field"
      ],
      "outputs": []
    },
    {
      "execution_count": 8,
      "cell_type": "code",
      "metadata": {},
      "source": [
        "# objectIds opsplitsen in chunks\ndef chunk(it, size):\n    it \u003d iter(it)\n    return iter(lambda: tuple(islice(it, size)), ())\nn \u003d 100 # grootte van chunks\nobjectIds_chunks \u003d list(chunk(objectIds_list, n))\naantalchunks \u003d len(objectIds_chunks)"
      ],
      "outputs": []
    },
    {
      "execution_count": 14,
      "cell_type": "code",
      "metadata": {},
      "source": [
        "# Areaaldata downloaden per chunk\ndf_PNH \u003d pd.DataFrame()\nfor i in range(0,aantalchunks):\n    chunk \u003d objectIds_chunks[i]\n    objectids \u003d \u0027\u0027\n    for j in range(0,len(chunk)):\n        objectid \u003d str(chunk[j])\n        if objectids \u003d\u003d \u0027\u0027:\n            objectids \u003d objectid\n        else:\n            objectids \u003d objectids + \u0027%2C+\u0027 + objectid\n    query2\u003dlaag+\u0027/query?where\u003d\u0026text\u003d\u0026objectIds\u003d\u0027+ objectids +\u0027\u0026time\u003d\u0026geometry\u003d\u0026geometryType\u003desriGeometryEnvelope\u0026inSR\u003d\u0026spatialRel\u003desriSpatialRelIntersects\u0026relationParam\u003d\u0026outFields\u003d\u0027+ fieldsstring + \u0027\u0026returnGeometry\u003dtrue\u0026returnTrueCurves\u003dfalse\u0026maxAllowableOffset\u003d\u0026geometryPrecision\u003d\u0026outSR\u003d\u0026having\u003d\u0026returnIdsOnly\u003dfalse\u0026returnCountOnly\u003dfalse\u0026orderByFields\u003d\u0026groupByFieldsForStatistics\u003d\u0026outStatistics\u003d\u0026returnZ\u003dfalse\u0026returnM\u003dfalse\u0026gdbVersion\u003d\u0026historicMoment\u003d\u0026returnDistinctValues\u003dfalse\u0026resultOffset\u003d\u0026resultRecordCount\u003d\u0026queryByDistance\u003d\u0026returnExtentOnly\u003dfalse\u0026datumTransformation\u003d\u0026parameterValues\u003d\u0026rangeValues\u003d\u0026quantizationParameters\u003d\u0026f\u003dpjson\u0027\n    r \u003d  requests.get(query2, verify\u003dFalse)\n    df2 \u003d json_normalize(json.loads(r.content))\n    data \u003d json_normalize(df2.features[0])\n    data[\u0027ID\u0027] \u003d 52\n    df_PNH \u003d df_PNH.append(data)"
      ],
      "outputs": [
        {
          "output_type": "stream",
          "name": "stderr",
          "text": "/home/dataiku/dss/code-envs/python/Gerda/lib/python3.6/site-packages/urllib3/connectionpool.py:1004: InsecureRequestWarning: Unverified HTTPS request is being made to host \u0027geoservices.noord-holland.nl\u0027. Adding certificate verification is strongly advised. See: https://urllib3.readthedocs.io/en/latest/advanced-usage.html#ssl-warnings\n  InsecureRequestWarning,\n/home/dataiku/dss/code-envs/python/Gerda/lib/python3.6/site-packages/urllib3/connectionpool.py:1004: InsecureRequestWarning: Unverified HTTPS request is being made to host \u0027geoservices.noord-holland.nl\u0027. Adding certificate verification is strongly advised. See: https://urllib3.readthedocs.io/en/latest/advanced-usage.html#ssl-warnings\n  InsecureRequestWarning,\n"
        }
      ]
    },
    {
      "execution_count": 15,
      "cell_type": "code",
      "metadata": {},
      "source": [
        "len(df_PNH)"
      ],
      "outputs": [
        {
          "output_type": "execute_result",
          "metadata": {},
          "data": {
            "text/plain": "112"
          },
          "execution_count": 15
        }
      ]
    },
    {
      "execution_count": 16,
      "cell_type": "code",
      "metadata": {},
      "source": [
        "df_PNH.head()"
      ],
      "outputs": [
        {
          "output_type": "execute_result",
          "metadata": {},
          "data": {
            "text/plain": "                      attributes.ad_id attributes.beheerder  attributes.lengte attributes.materiaaltype attributes.naam  attributes.objectbegintijd attributes.objecteindtijd  attributes.objectid                               attributes.opmerking  attributes.st_length(shape)          attributes.typespec attributes.verwerkingsstatus                                     geometry.paths  ID\n0  AD.DCB154123D544BD28E06F927D352BBF5                 None          10.492085                     None            None               1614038400000                      None                    1                                               N531                    10.492085        betonnen paddentunnel                      Actueel  [[[104425.95589999855, 508570.3016999997], [10...  52\n1  AD.84B1EF8675894337ADB3B478C85A7F07                 None          11.464783                     None            None               1614038400000                      None                    2  Geen geleiding maar wel nodig, locatie bij ben...                    11.464783               kunststof buis                      Actueel  [[[117564.03770000115, 534900.3539000005], [11...  52\n2  AD.643E6803E4544262B6CBDB7925393E8E                 None          34.253816                     None            None               1614038400000                      None                    3  Mag ook een looprichel onder de brug komen ; N244                    34.253816                  stalen buis                      Actueel  [[[114562.1074000001, 507857.87359999865], [11...  52\n3  AD.306917A60B2C4B3394754926C93D8306                 None          18.404365                     None            None               1614038400000                      None                    4                                               N239                    18.404365  betonnen buis met loopplank                      Actueel  [[[125149.71249999851, 529681.6933000013], [12...  52\n4  AD.5B03FA4DBB674926AB464A5C07C467CF                 None          23.110641                     None            None               1561420800000                      None                    5                                               N236                    23.110641        betonnen paddentunnel                      Actueel  [[[137881.00349999964, 474646.2340000011], [13...  52",
            "text/html": "\n            \u003cbutton style\u003d\"display:none\" \n            class\u003d\"btn btn-default ipython-export-btn\" \n            id\u003d\"btn-df-d4ee0fb5-f951-4a74-9913-91f4870cc704\" \n            onclick\u003d\"_export_df(\u0027d4ee0fb5-f951-4a74-9913-91f4870cc704\u0027)\"\u003e\n                Export dataframe\n            \u003c/button\u003e\n            \n            \u003cscript\u003e\n                \n                function _check_export_df_possible(dfid,yes_fn,no_fn) {\n                    console.log(\u0027Checking dataframe exportability...\u0027)\n                    if(!IPython || !IPython.notebook || !IPython.notebook.kernel || !IPython.notebook.kernel) {\n                        console.log(\u0027Export is not possible (IPython kernel is not available)\u0027)\n                        if(no_fn) {\n                            no_fn();\n                        }\n                    } else {\n                        var pythonCode \u003d \u0027from dataiku.notebook.export import IPythonExporter;IPythonExporter._check_export_stdout(\"\u0027+dfid+\u0027\")\u0027;\n                        IPython.notebook.kernel.execute(pythonCode,{iopub: {output: function(resp) {\n                            console.info(\"Exportability response\", resp);\n                            var size \u003d /^([0-9]+)x([0-9]+)$/.exec(resp.content.data || resp.content.text)\n                            if(!size) {\n                                console.log(\u0027Export is not possible (dataframe is not in-memory anymore)\u0027)\n                                if(no_fn) {\n                                    no_fn();\n                                }\n                            } else {\n                                console.log(\u0027Export is possible\u0027)\n                                if(yes_fn) {\n                                    yes_fn(1*size[1],1*size[2]);\n                                }\n                            }\n                        }}});\n                    }\n                }\n            \n                function _export_df(dfid) {\n                    \n                    var btn \u003d $(\u0027#btn-df-\u0027+dfid);\n                    var btns \u003d $(\u0027.ipython-export-btn\u0027);\n                    \n                    _check_export_df_possible(dfid,function() {\n                        \n                        window.parent.openExportModalFromIPython(\u0027Pandas dataframe\u0027,function(data) {\n                            btns.prop(\u0027disabled\u0027,true);\n                            btn.text(\u0027Exporting...\u0027);\n                            var command \u003d \u0027from dataiku.notebook.export import IPythonExporter;IPythonExporter._run_export(\"\u0027+dfid+\u0027\",\"\u0027+data.exportId+\u0027\")\u0027;\n                            var callback \u003d {iopub:{output: function(resp) {\n                                console.info(\"CB resp:\", resp);\n                                _check_export_df_possible(dfid,function(rows, cols) {\n                                    $(\u0027#btn-df-\u0027+dfid)\n                                        .css(\u0027display\u0027,\u0027inline-block\u0027)\n                                        .text(\u0027Export this dataframe (\u0027+rows+\u0027 rows, \u0027+cols+\u0027 cols)\u0027)\n                                        .prop(\u0027disabled\u0027,false);\n                                },function() {\n                                    $(\u0027#btn-df-\u0027+dfid).css(\u0027display\u0027,\u0027none\u0027);\n                                });\n                            }}};\n                            IPython.notebook.kernel.execute(command,callback,{silent:false}); // yes, silent now defaults to true. figures.\n                        });\n                    \n                    }, function(){\n                            alert(\u0027Unable to export : the Dataframe object is not loaded in memory\u0027);\n                            btn.css(\u0027display\u0027,\u0027none\u0027);\n                    });\n                    \n                }\n                \n                (function(dfid) {\n                \n                    var retryCount \u003d 10;\n                \n                    function is_valid_websock(s) {\n                        return s \u0026\u0026 s.readyState\u003d\u003d1;\n                    }\n                \n                    function check_conn() {\n                        \n                        if(!IPython || !IPython.notebook) {\n                            // Don\u0027t even try to go further\n                            return;\n                        }\n                        \n                        // Check if IPython is ready\n                        console.info(\"Checking conn ...\")\n                        if(IPython.notebook.kernel\n                        \u0026\u0026 IPython.notebook.kernel\n                        \u0026\u0026 is_valid_websock(IPython.notebook.kernel.ws)\n                        ) {\n                            \n                            _check_export_df_possible(dfid,function(rows, cols) {\n                                $(\u0027#btn-df-\u0027+dfid).css(\u0027display\u0027,\u0027inline-block\u0027);\n                                $(\u0027#btn-df-\u0027+dfid).text(\u0027Export this dataframe (\u0027+rows+\u0027 rows, \u0027+cols+\u0027 cols)\u0027);\n                            });\n                            \n                        } else {\n                            console.info(\"Conditions are not ok\", IPython.notebook.kernel);\n                            \n                            // Retry later\n                            \n                            if(retryCount\u003e0) {\n                                setTimeout(check_conn,500);\n                                retryCount--;\n                            }\n                            \n                        }\n                    };\n                    \n                    setTimeout(check_conn,100);\n                    \n                })(\"d4ee0fb5-f951-4a74-9913-91f4870cc704\");\n                \n            \u003c/script\u003e\n            \n        \u003cdiv\u003e\n\u003cstyle scoped\u003e\n    .dataframe tbody tr th:only-of-type {\n        vertical-align: middle;\n    }\n\n    .dataframe tbody tr th {\n        vertical-align: top;\n    }\n\n    .dataframe thead th {\n        text-align: right;\n    }\n\u003c/style\u003e\n\u003ctable border\u003d\"1\" class\u003d\"dataframe\"\u003e\n  \u003cthead\u003e\n    \u003ctr style\u003d\"text-align: right;\"\u003e\n      \u003cth\u003e\u003c/th\u003e\n      \u003cth\u003eattributes.ad_id\u003c/th\u003e\n      \u003cth\u003eattributes.beheerder\u003c/th\u003e\n      \u003cth\u003eattributes.lengte\u003c/th\u003e\n      \u003cth\u003eattributes.materiaaltype\u003c/th\u003e\n      \u003cth\u003eattributes.naam\u003c/th\u003e\n      \u003cth\u003eattributes.objectbegintijd\u003c/th\u003e\n      \u003cth\u003eattributes.objecteindtijd\u003c/th\u003e\n      \u003cth\u003eattributes.objectid\u003c/th\u003e\n      \u003cth\u003eattributes.opmerking\u003c/th\u003e\n      \u003cth\u003eattributes.st_length(shape)\u003c/th\u003e\n      \u003cth\u003eattributes.typespec\u003c/th\u003e\n      \u003cth\u003eattributes.verwerkingsstatus\u003c/th\u003e\n      \u003cth\u003egeometry.paths\u003c/th\u003e\n      \u003cth\u003eID\u003c/th\u003e\n    \u003c/tr\u003e\n  \u003c/thead\u003e\n  \u003ctbody\u003e\n    \u003ctr\u003e\n      \u003cth\u003e0\u003c/th\u003e\n      \u003ctd\u003eAD.DCB154123D544BD28E06F927D352BBF5\u003c/td\u003e\n      \u003ctd\u003eNone\u003c/td\u003e\n      \u003ctd\u003e10.492085\u003c/td\u003e\n      \u003ctd\u003eNone\u003c/td\u003e\n      \u003ctd\u003eNone\u003c/td\u003e\n      \u003ctd\u003e1614038400000\u003c/td\u003e\n      \u003ctd\u003eNone\u003c/td\u003e\n      \u003ctd\u003e1\u003c/td\u003e\n      \u003ctd\u003eN531\u003c/td\u003e\n      \u003ctd\u003e10.492085\u003c/td\u003e\n      \u003ctd\u003ebetonnen paddentunnel\u003c/td\u003e\n      \u003ctd\u003eActueel\u003c/td\u003e\n      \u003ctd\u003e[[[104425.95589999855, 508570.3016999997], [10...\u003c/td\u003e\n      \u003ctd\u003e52\u003c/td\u003e\n    \u003c/tr\u003e\n    \u003ctr\u003e\n      \u003cth\u003e1\u003c/th\u003e\n      \u003ctd\u003eAD.84B1EF8675894337ADB3B478C85A7F07\u003c/td\u003e\n      \u003ctd\u003eNone\u003c/td\u003e\n      \u003ctd\u003e11.464783\u003c/td\u003e\n      \u003ctd\u003eNone\u003c/td\u003e\n      \u003ctd\u003eNone\u003c/td\u003e\n      \u003ctd\u003e1614038400000\u003c/td\u003e\n      \u003ctd\u003eNone\u003c/td\u003e\n      \u003ctd\u003e2\u003c/td\u003e\n      \u003ctd\u003eGeen geleiding maar wel nodig, locatie bij ben...\u003c/td\u003e\n      \u003ctd\u003e11.464783\u003c/td\u003e\n      \u003ctd\u003ekunststof buis\u003c/td\u003e\n      \u003ctd\u003eActueel\u003c/td\u003e\n      \u003ctd\u003e[[[117564.03770000115, 534900.3539000005], [11...\u003c/td\u003e\n      \u003ctd\u003e52\u003c/td\u003e\n    \u003c/tr\u003e\n    \u003ctr\u003e\n      \u003cth\u003e2\u003c/th\u003e\n      \u003ctd\u003eAD.643E6803E4544262B6CBDB7925393E8E\u003c/td\u003e\n      \u003ctd\u003eNone\u003c/td\u003e\n      \u003ctd\u003e34.253816\u003c/td\u003e\n      \u003ctd\u003eNone\u003c/td\u003e\n      \u003ctd\u003eNone\u003c/td\u003e\n      \u003ctd\u003e1614038400000\u003c/td\u003e\n      \u003ctd\u003eNone\u003c/td\u003e\n      \u003ctd\u003e3\u003c/td\u003e\n      \u003ctd\u003eMag ook een looprichel onder de brug komen ; N244\u003c/td\u003e\n      \u003ctd\u003e34.253816\u003c/td\u003e\n      \u003ctd\u003estalen buis\u003c/td\u003e\n      \u003ctd\u003eActueel\u003c/td\u003e\n      \u003ctd\u003e[[[114562.1074000001, 507857.87359999865], [11...\u003c/td\u003e\n      \u003ctd\u003e52\u003c/td\u003e\n    \u003c/tr\u003e\n    \u003ctr\u003e\n      \u003cth\u003e3\u003c/th\u003e\n      \u003ctd\u003eAD.306917A60B2C4B3394754926C93D8306\u003c/td\u003e\n      \u003ctd\u003eNone\u003c/td\u003e\n      \u003ctd\u003e18.404365\u003c/td\u003e\n      \u003ctd\u003eNone\u003c/td\u003e\n      \u003ctd\u003eNone\u003c/td\u003e\n      \u003ctd\u003e1614038400000\u003c/td\u003e\n      \u003ctd\u003eNone\u003c/td\u003e\n      \u003ctd\u003e4\u003c/td\u003e\n      \u003ctd\u003eN239\u003c/td\u003e\n      \u003ctd\u003e18.404365\u003c/td\u003e\n      \u003ctd\u003ebetonnen buis met loopplank\u003c/td\u003e\n      \u003ctd\u003eActueel\u003c/td\u003e\n      \u003ctd\u003e[[[125149.71249999851, 529681.6933000013], [12...\u003c/td\u003e\n      \u003ctd\u003e52\u003c/td\u003e\n    \u003c/tr\u003e\n    \u003ctr\u003e\n      \u003cth\u003e4\u003c/th\u003e\n      \u003ctd\u003eAD.5B03FA4DBB674926AB464A5C07C467CF\u003c/td\u003e\n      \u003ctd\u003eNone\u003c/td\u003e\n      \u003ctd\u003e23.110641\u003c/td\u003e\n      \u003ctd\u003eNone\u003c/td\u003e\n      \u003ctd\u003eNone\u003c/td\u003e\n      \u003ctd\u003e1561420800000\u003c/td\u003e\n      \u003ctd\u003eNone\u003c/td\u003e\n      \u003ctd\u003e5\u003c/td\u003e\n      \u003ctd\u003eN236\u003c/td\u003e\n      \u003ctd\u003e23.110641\u003c/td\u003e\n      \u003ctd\u003ebetonnen paddentunnel\u003c/td\u003e\n      \u003ctd\u003eActueel\u003c/td\u003e\n      \u003ctd\u003e[[[137881.00349999964, 474646.2340000011], [13...\u003c/td\u003e\n      \u003ctd\u003e52\u003c/td\u003e\n    \u003c/tr\u003e\n  \u003c/tbody\u003e\n\u003c/table\u003e\n\u003c/div\u003e"
          },
          "execution_count": 16
        }
      ]
    },
    {
      "execution_count": 1,
      "cell_type": "code",
      "metadata": {},
      "source": [
        "#geometry \ndf_PNH[\u0027geometry.paths\u0027] \u003d df_PNH[\u0027geometry.paths\u0027].apply(wkt.loads)"
      ],
      "outputs": []
    },
    {
      "execution_count": 0,
      "cell_type": "code",
      "metadata": {},
      "source": [
        "# Example: load a DSS dataset as a Pandas dataframe\nmydataset \u003d dataiku.Dataset(\"mydataset\")\nmydataset_df \u003d mydataset.get_dataframe()"
      ],
      "outputs": []
    },
    {
      "execution_count": 0,
      "cell_type": "code",
      "metadata": {},
      "source": [
        "# Recipe outputs\nall_road_objects \u003d dataiku.Dataset(\"All_road_objects\")\nall_road_objects.write_with_schema(df_PNH)"
      ],
      "outputs": []
    },
    {
      "execution_count": 0,
      "cell_type": "code",
      "metadata": {},
      "source": [
        ""
      ],
      "outputs": []
    }
  ]
}