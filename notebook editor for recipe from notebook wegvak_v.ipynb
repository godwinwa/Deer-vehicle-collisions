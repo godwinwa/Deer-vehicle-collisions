{
  "metadata": {
    "kernelspec": {
      "display_name": "Python (env Gerda)",
      "name": "py-dku-venv-gerda",
      "language": "python"
    },
    "language_info": {
      "mimetype": "text/x-python",
      "nbconvert_exporter": "python",
      "version": "3.6.10",
      "name": "python",
      "pygments_lexer": "ipython3",
      "file_extension": ".py",
      "codemirror_mode": {
        "version": 3,
        "name": "ipython"
      }
    },
    "creator": "acheampongg",
    "associatedRecipe": "recipe from notebook wegvak_v",
    "createdOn": 1624986308612,
    "tags": [
      "recipe-editor"
    ],
    "customFields": {},
    "modifiedBy": "acheampongg"
  },
  "nbformat": 4,
  "nbformat_minor": 1,
  "cells": [
    {
      "execution_count": 0,
      "cell_type": "code",
      "metadata": {},
      "source": [
        "%pylab inline"
      ],
      "outputs": []
    },
    {
      "execution_count": 0,
      "cell_type": "code",
      "metadata": {},
      "source": [
        "# -*- coding: utf-8 -*-\nimport dataiku\nimport pandas as pd, numpy as np\nfrom dataiku import pandasutils as pdu"
      ],
      "outputs": []
    },
    {
      "execution_count": 0,
      "cell_type": "code",
      "metadata": {},
      "source": [
        "import geopandas as gpd\nimport requests\nimport json\nfrom pandas.io.json import json_normalize\nfrom itertools import islice\nfrom shapely.geometry import Polygon, LineString\nimport matplotlib.pyplot as plt"
      ],
      "outputs": []
    },
    {
      "execution_count": 0,
      "cell_type": "code",
      "metadata": {},
      "source": [
        "# This function returns the fields (columns) of a given data layer number\ndef layer_fields(layer_number):\n    layer \u003d \u0027https://gisservices.noord-holland.nl/ags/rest/services/extern/pnh_areaal/MapServer/\u0027 + str(layer_number)\n    query \u003d layer +\u0027?f\u003dpjson\u0027\n    r \u003d requests.get(query)\n    info \u003d json_normalize(json.loads(r.content))\n    info \u003d json_normalize(info.fields[0])\n    return info"
      ],
      "outputs": []
    },
    {
      "execution_count": 0,
      "cell_type": "code",
      "metadata": {},
      "source": [
        "# This function returns all objectIDs of a given data layer number within an envelope\n##### It seems that the envelope is ignored, every envelope gives the same amount of objectIDs. Find out why!\ndef layer_objectIDs(layer_number, envelope):\n    layer \u003d \u0027https://gisservices.noord-holland.nl/ags/rest/services/extern/pnh_areaal/MapServer/\u0027 + str(layer_number)\n    query \u003d layer +\u0027/query?where\u003d\u0026text\u003d\u0026objectIds\u003d\u0026time\u003d\u0026geometry\u003d\u0027+ envelope + \u0027\u0026geometryType\u003desriGeometryEnvelope\u0026inSR\u003d\u0026spatialRel\u003desriSpatialRelIntersects\u0026relationParam\u003d\u0026outFields\u003d\u0026returnGeometry\u003dfalse\u0026returnTrueCurves\u003dfalse\u0026maxAllowableOffset\u003d\u0026geometryPrecision\u003d\u0026outSR\u003d\u0026having\u003d\u0026returnIdsOnly\u003dtrue\u0026returnCountOnly\u003dfalse\u0026orderByFields\u003d\u0026groupByFieldsForStatistics\u003d\u0026outStatistics\u003d\u0026returnZ\u003dfalse\u0026returnM\u003dfalse\u0026gdbVersion\u003d\u0026historicMoment\u003d\u0026returnDistinctValues\u003dfalse\u0026resultOffset\u003d\u0026resultRecordCount\u003d\u0026queryByDistance\u003d\u0026returnExtentOnly\u003dfalse\u0026datumTransformation\u003d\u0026parameterValues\u003d\u0026rangeValues\u003d\u0026quantizationParameters\u003d\u0026f\u003dpjson\u0027\n    r \u003d  requests.get(query, verify\u003dFalse)\n    df \u003d json_normalize(json.loads(r.content))\n    objectIDs\u003d df.objectIds[0]\n    return objectIDs"
      ],
      "outputs": []
    },
    {
      "execution_count": 0,
      "cell_type": "code",
      "metadata": {},
      "source": [
        "# This function returns the data of the given fields of a given layer number, for the given objectIDs\ndef layer_data(layer_number, fields, objectIDs):\n    fieldsstring \u003d \u0027\u0027\n    for f in range(0,len(fields)):\n        field \u003d fields[f]\n        if fieldsstring \u003d\u003d \u0027\u0027:\n            fieldsstring \u003d field\n        else:\n            fieldsstring \u003d fieldsstring + \u0027%2C+\u0027 + field\n    layer \u003d \u0027https://gisservices.noord-holland.nl/ags/rest/services/extern/pnh_areaal/MapServer/\u0027 + str(layer_number)\n    #query \u003dlayer+\u0027/query?where\u003d\u0026text\u003d\u0026objectIds\u003d\u0027+ objectIDs +\u0027\u0026time\u003d\u0026geometry\u003d\u0026geometryType\u003desriGeometryEnvelope\u0026inSR\u003d\u0026spatialRel\u003desriSpatialRelIntersects\u0026relationParam\u003d\u0026outFields\u003d\u0027+ fieldsstring + \u0027\u0026returnGeometry\u003dtrue\u0026returnTrueCurves\u003dfalse\u0026maxAllowableOffset\u003d\u0026geometryPrecision\u003d\u0026outSR\u003d\u0026having\u003d\u0026returnIdsOnly\u003dfalse\u0026returnCountOnly\u003dfalse\u0026orderByFields\u003d\u0026groupByFieldsForStatistics\u003d\u0026outStatistics\u003d\u0026returnZ\u003dfalse\u0026returnM\u003dfalse\u0026gdbVersion\u003d\u0026historicMoment\u003d\u0026returnDistinctValues\u003dfalse\u0026resultOffset\u003d\u0026resultRecordCount\u003d\u0026queryByDistance\u003d\u0026returnExtentOnly\u003dfalse\u0026datumTransformation\u003d\u0026parameterValues\u003d\u0026rangeValues\u003d\u0026quantizationParameters\u003d\u0026f\u003dpjson\u0027\n    query \u003dlayer+\u0027/query?where\u003d\u0026text\u003d\u0026objectIds\u003d\u0027+ objectIDs +\u0027\u0026time\u003d\u0026geometry\u003d\u0026geometryType\u003d\u0026inSR\u003d\u0026spatialRel\u003d\u0026relationParam\u003d\u0026outFields\u003d\u0027+ fieldsstring + \u0027\u0026returnGeometry\u003dtrue\u0026returnTrueCurves\u003dfalse\u0026maxAllowableOffset\u003d\u0026geometryPrecision\u003d\u0026outSR\u003d\u0026having\u003d\u0026returnIdsOnly\u003dfalse\u0026returnCountOnly\u003dfalse\u0026orderByFields\u003d\u0026groupByFieldsForStatistics\u003d\u0026outStatistics\u003d\u0026returnZ\u003dfalse\u0026returnM\u003dfalse\u0026gdbVersion\u003d\u0026historicMoment\u003d\u0026returnDistinctValues\u003dfalse\u0026resultOffset\u003d\u0026resultRecordCount\u003d\u0026queryByDistance\u003d\u0026returnExtentOnly\u003dfalse\u0026datumTransformation\u003d\u0026parameterValues\u003d\u0026rangeValues\u003d\u0026quantizationParameters\u003d\u0026f\u003dpjson\u0027\n\n    r \u003d  requests.get(query, verify\u003dFalse)\n    df \u003d json_normalize(json.loads(r.content))\n    df \u003d json_normalize(df.features[0])\n    return df"
      ],
      "outputs": []
    },
    {
      "execution_count": 0,
      "cell_type": "code",
      "metadata": {},
      "source": [
        "# This function divides the objectIDs in chunks\ndef chunk(objectIDs, size):\n    objectIDs \u003d iter(objectIDs)\n    objectIDs_chunks \u003d list(iter(lambda: tuple(islice(objectIDs, size)), ()))\n    return objectIDs_chunks"
      ],
      "outputs": []
    },
    {
      "execution_count": 0,
      "cell_type": "code",
      "metadata": {},
      "source": [
        "layer_number \u003d 111 # wegvak_v\n#number \u003d 5 # Gemeentegrenzen\n#number \u003d 112 # Wegdeel_v\n#layer_number \u003d 52 # ecopassage\nall_fields \u003d layer_fields(layer_number)\nfields \u003d all_fields[\u0027name\u0027]"
      ],
      "outputs": []
    },
    {
      "execution_count": 0,
      "cell_type": "code",
      "metadata": {},
      "source": [
        "fields"
      ],
      "outputs": []
    },
    {
      "execution_count": 0,
      "cell_type": "code",
      "metadata": {},
      "source": [
        "xmin \u003d 94297.0340000019\nxmax \u003d 148229.3149\nymin \u003d 465598.8116\nymax \u003d 563639.916299999\nenvelope \u003d str(xmin) + \u0027%2C+\u0027 + str(ymin) + \u0027%2C+\u0027 + str(xmax) + \u0027%2C+\u0027 + str(ymax)\nobjectIDs \u003d layer_objectIDs(layer_number, envelope)"
      ],
      "outputs": []
    },
    {
      "execution_count": 0,
      "cell_type": "code",
      "metadata": {},
      "source": [
        "envelope"
      ],
      "outputs": []
    },
    {
      "execution_count": 0,
      "cell_type": "code",
      "metadata": {},
      "source": [
        "len(objectIDs)"
      ],
      "outputs": []
    },
    {
      "execution_count": 0,
      "cell_type": "code",
      "metadata": {},
      "source": [
        "n \u003d 100 # grootte van chunks\nobjectIDs_chunks \u003d list(chunk(objectIDs, n))"
      ],
      "outputs": []
    },
    {
      "execution_count": 0,
      "cell_type": "code",
      "metadata": {},
      "source": [
        "number_chunks \u003d len(objectIDs_chunks)\nnumber_chunks"
      ],
      "outputs": []
    },
    {
      "execution_count": 0,
      "cell_type": "code",
      "metadata": {},
      "source": [
        "# Areaaldata downloaden per chunk\ndf \u003d pd.DataFrame()\nfor i in range(0,number_chunks):\n    chunk \u003d objectIDs_chunks[i]\n    objectIDs_chunk \u003d \u0027\u0027\n    for j in range(0,len(chunk)):\n        objectID \u003d str(chunk[j])\n        if objectIDs_chunk \u003d\u003d \u0027\u0027:\n            objectIDs_chunk \u003d objectID\n        else:\n            objectIDs_chunk\u003d objectIDs_chunk + \u0027%2C+\u0027 + objectID\n    data \u003d layer_data(layer_number, fields, objectIDs_chunk)\n    df \u003d df.append(data)"
      ],
      "outputs": []
    },
    {
      "execution_count": 0,
      "cell_type": "code",
      "metadata": {},
      "source": [
        "df"
      ],
      "outputs": []
    },
    {
      "execution_count": 0,
      "cell_type": "code",
      "metadata": {},
      "source": [
        "df[\u0027attributes.TRAJECT\u0027].unique()"
      ],
      "outputs": []
    },
    {
      "execution_count": 0,
      "cell_type": "code",
      "metadata": {},
      "source": [
        "# Stukje code van Sam om geometry te kunnen lezen.\n# dit moet anders en mooier kunnen maar het werkt\ndef converter(row):\n    # row index 0 want list is nested\n    geopoints \u003d [tuple(coords) for coords in row[0]]\n    return geopoints"
      ],
      "outputs": []
    },
    {
      "execution_count": 0,
      "cell_type": "code",
      "metadata": {},
      "source": [
        "df[\u0027geometry.rings\u0027] \u003d df[\u0027geometry.rings\u0027].astype(str)\n#df[\u0027geometry.paths\u0027] \u003d df[\u0027geometry.paths\u0027].astype(str)"
      ],
      "outputs": []
    },
    {
      "execution_count": 0,
      "cell_type": "code",
      "metadata": {},
      "source": [
        "# data is in string format -\u003e eerst omzetten naar nested list dmv json.loads\ndf[\u0027geometry\u0027] \u003d df[\u0027geometry.rings\u0027].apply(lambda x: Polygon(converter(json.loads(x))))\n#df[\u0027geometry\u0027] \u003d df[\u0027geometry.paths\u0027].apply(lambda x: Polygon(converter(json.loads(x))))"
      ],
      "outputs": []
    },
    {
      "execution_count": 0,
      "cell_type": "code",
      "metadata": {},
      "source": [
        "gdf \u003d gpd.GeoDataFrame(df, crs\u003d\u0027epsg:28992\u0027, geometry \u003d \u0027geometry\u0027)"
      ],
      "outputs": []
    },
    {
      "execution_count": 0,
      "cell_type": "code",
      "metadata": {},
      "source": [
        "fig, ax \u003d plt.subplots(1, 1, figsize \u003d (10,10))\ngdf.plot(ax\u003dax)"
      ],
      "outputs": []
    },
    {
      "execution_count": 0,
      "cell_type": "code",
      "metadata": {},
      "source": [
        "# Write recipe outputs\nwegvakken_v \u003d dataiku.Dataset(\"wegvakken_v\")\nwegvakken_v.write_with_schema(df)"
      ],
      "outputs": []
    },
    {
      "execution_count": 0,
      "cell_type": "code",
      "metadata": {},
      "source": [
        "# Recipe outputs\nwegvakken_v \u003d dataiku.Dataset(\"wegvakken_v\")\nwegvakken_v.write_with_schema(pandas_dataframe)"
      ],
      "outputs": []
    }
  ]
}