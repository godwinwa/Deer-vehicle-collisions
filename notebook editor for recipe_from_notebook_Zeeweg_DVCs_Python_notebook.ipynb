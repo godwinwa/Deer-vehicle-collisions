{
  "metadata": {
    "kernelspec": {
      "display_name": "Python (env Gerda)",
      "name": "py-dku-venv-gerda",
      "language": "python"
    },
    "language_info": {
      "mimetype": "text/x-python",
      "nbconvert_exporter": "python",
      "version": "3.6.10",
      "name": "python",
      "pygments_lexer": "ipython3",
      "file_extension": ".py",
      "codemirror_mode": {
        "version": 3,
        "name": "ipython"
      }
    },
    "creator": "acheampongg",
    "associatedRecipe": "recipe_from_notebook_Zeeweg_DVCs_Python_notebook",
    "createdOn": 1625234514766,
    "tags": [
      "recipe-editor"
    ],
    "customFields": {},
    "modifiedBy": "acheampongg"
  },
  "nbformat": 4,
  "nbformat_minor": 1,
  "cells": [
    {
      "execution_count": 0,
      "cell_type": "code",
      "metadata": {},
      "source": [
        "%pylab inline"
      ],
      "outputs": []
    },
    {
      "execution_count": 0,
      "cell_type": "code",
      "metadata": {},
      "source": [
        "import dataiku\nfrom dataiku import pandasutils as pdu\nimport pandas as pd\nimport folium\nfrom folium import Marker"
      ],
      "outputs": []
    },
    {
      "execution_count": 0,
      "cell_type": "code",
      "metadata": {},
      "source": [
        "# Example: load a DSS dataset as a Pandas dataframe\nmydataset \u003d dataiku.Dataset(\"Data_aanrijdingen_damhert_ree_2014_2020\")\ndf \u003d mydataset.get_dataframe()"
      ],
      "outputs": []
    },
    {
      "execution_count": 0,
      "cell_type": "code",
      "metadata": {},
      "source": [
        "df.head()"
      ],
      "outputs": []
    },
    {
      "execution_count": 0,
      "cell_type": "code",
      "metadata": {},
      "source": [
        "len(df)"
      ],
      "outputs": []
    },
    {
      "execution_count": 0,
      "cell_type": "code",
      "metadata": {},
      "source": [
        "#filter on latitude and longitude\ndf_zeeweg \u003d df[df[\u0027Latitude\u0027] \u003c 52.41]\ndf_zeeweg \u003d df_zeeweg[df_zeeweg[\u0027Latitude\u0027] \u003e 52.39]\ndf_zeeweg \u003d df_zeeweg[df_zeeweg[\u0027Longitude\u0027] \u003c 4.60]\ndf_zeeweg \u003d df_zeeweg[df_zeeweg[\u0027Longitude\u0027] \u003e 4.54]"
      ],
      "outputs": []
    },
    {
      "execution_count": 0,
      "cell_type": "code",
      "metadata": {},
      "source": [
        "len(df_zeeweg)"
      ],
      "outputs": []
    },
    {
      "execution_count": 0,
      "cell_type": "code",
      "metadata": {},
      "source": [
        "#folium map to see DVCs\nmap1 \u003d folium.Map(location \u003d [52.5206, 4.7885], titles \u003d \"Deer collisions\", zoom_start\u003d9)\nfor i, row in df_zeeweg.iterrows():\n    folium.CircleMarker((row.Latitude, row.Longitude), radius\u003d3, weight\u003d2, color\u003d\u0027red\u0027, fill_color\u003d\u0027red\u0027, fill_opacity\u003d.5).add_to(map1)"
      ],
      "outputs": []
    },
    {
      "execution_count": 0,
      "cell_type": "code",
      "metadata": {},
      "source": [
        "#folium map with popup to identify DVCs\nfor i, row in df_zeeweg.iterrows():\n    folium.CircleMarker((row.Latitude, row.Longitude), radius\u003d3, weight\u003d2, color\u003d\u0027red\u0027, fill_color\u003d\u0027red\u0027, fill_opacity\u003d.5, popup\u003d\u0027\u003cstrong\u003e\u0027 + row[\u0027Datum\u0027] + \u0027\u003c/strong\u003e\u0027).add_to(map1)\n    popup \u003d popup \u003d \u0027\u003cstrong\u003e\u0027 + row[\u0027Datum\u0027] +  \u0027\u003c/strong\u003e\u0027\n    marker \u003d folium.Marker(location\u003d [52.5206, 4.7885])\n    marker.add_to(map1)"
      ],
      "outputs": []
    },
    {
      "execution_count": 0,
      "cell_type": "code",
      "metadata": {},
      "source": [
        "map1"
      ],
      "outputs": []
    },
    {
      "execution_count": 0,
      "cell_type": "code",
      "metadata": {},
      "source": [
        "#point to far off, seen from folium map\ndf_zeeweg \u003d df_zeeweg.drop(314)\ndf_zeeweg \u003d df_zeeweg.drop(660)\ndf_zeeweg \u003d df_zeeweg.drop(462)"
      ],
      "outputs": []
    },
    {
      "execution_count": 0,
      "cell_type": "code",
      "metadata": {},
      "source": [
        "# Recipe outputs\nzeeweg_dvc \u003d dataiku.Dataset(\"Zeeweg_DVCs\")\nzeeweg_dvc.write_with_schema(df_zeeweg)"
      ],
      "outputs": []
    }
  ]
}