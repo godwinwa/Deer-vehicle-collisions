{
  "metadata": {
    "kernelspec": {
      "display_name": "Python 2",
      "name": "python2",
      "language": "python"
    },
    "language_info": {
      "mimetype": "text/x-python",
      "nbconvert_exporter": "python",
      "version": "2.7.18",
      "name": "python",
      "pygments_lexer": "ipython2",
      "file_extension": ".py",
      "codemirror_mode": {
        "version": 2,
        "name": "ipython"
      }
    },
    "creator": "acheampongg",
    "associatedRecipe": "recipe_from_notebook_Fences_place_Python_notebook",
    "createdOn": 1625040896431,
    "tags": [
      "recipe-editor"
    ],
    "customFields": {},
    "modifiedBy": "acheampongg"
  },
  "nbformat": 4,
  "nbformat_minor": 1,
  "cells": [
    {
      "execution_count": 0,
      "cell_type": "code",
      "metadata": {},
      "source": [
        "%pylab inline"
      ],
      "outputs": []
    },
    {
      "execution_count": 0,
      "cell_type": "code",
      "metadata": {},
      "source": [
        "import dataiku\nfrom dataiku import pandasutils as pdu\nimport pandas as pd\nfrom shapely import wkt\nimport folium\nimport json\nfrom folium import plugins\nimport datetime as dt\nfrom folium.plugins import MarkerCluster\nimport geopandas as gpd"
      ],
      "outputs": []
    },
    {
      "execution_count": 0,
      "cell_type": "code",
      "metadata": {},
      "source": [
        "# Example: load a DSS dataset as a Pandas dataframe\nmydataset \u003d dataiku.Dataset(\"wegvakken_v_n200a\")\ndf \u003d mydataset.get_dataframe()"
      ],
      "outputs": []
    },
    {
      "execution_count": 0,
      "cell_type": "code",
      "metadata": {},
      "source": [
        "df.head()"
      ],
      "outputs": []
    },
    {
      "execution_count": 0,
      "cell_type": "code",
      "metadata": {},
      "source": [
        "#geodataframe\ndf[\u0027geometry\u0027] \u003d df[\u0027geometry\u0027].apply(wkt.loads)\ndf \u003d gpd.GeoDataFrame(df, crs\u003d\u0027epsg:28992\u0027, geometry \u003d \u0027geometry\u0027)\ndf[\u0027lat\u0027] \u003d df.centroid.y\ndf[\u0027lon\u0027] \u003d df.centroid.x"
      ],
      "outputs": []
    },
    {
      "execution_count": 0,
      "cell_type": "code",
      "metadata": {},
      "source": [
        "#get geojson features from dataframe\npoints_gjson \u003d folium.features.GeoJson(df, name\u003d\"DVC\")"
      ],
      "outputs": []
    },
    {
      "execution_count": 0,
      "cell_type": "code",
      "metadata": {},
      "source": [
        "#folium map\nmap1 \u003d folium.Map(location \u003d [52.5206, 4.7885], zoom_start\u003d9)\npoints_gjson.add_to(map1)"
      ],
      "outputs": []
    },
    {
      "execution_count": 0,
      "cell_type": "code",
      "metadata": {},
      "source": [
        "map1"
      ],
      "outputs": []
    }
  ]
}