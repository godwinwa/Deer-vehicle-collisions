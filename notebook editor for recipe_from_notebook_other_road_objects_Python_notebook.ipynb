{
  "metadata": {
    "kernelspec": {
      "display_name": "Python (env Gerda)",
      "name": "py-dku-venv-gerda",
      "language": "python"
    },
    "language_info": {
      "mimetype": "text/x-python",
      "nbconvert_exporter": "python",
      "version": "3.6.10",
      "name": "python",
      "pygments_lexer": "ipython3",
      "file_extension": ".py",
      "codemirror_mode": {
        "version": 3,
        "name": "ipython"
      }
    },
    "creator": "acheampongg",
    "associatedRecipe": "recipe_from_notebook_other_road_objects_Python_notebook",
    "createdOn": 1621247003626,
    "tags": [
      "recipe-editor"
    ],
    "modifiedBy": "acheampongg",
    "customFields": {}
  },
  "nbformat": 4,
  "nbformat_minor": 1,
  "cells": [
    {
      "execution_count": 0,
      "cell_type": "code",
      "metadata": {},
      "source": [
        "%pylab inline"
      ],
      "outputs": []
    },
    {
      "execution_count": 0,
      "cell_type": "code",
      "metadata": {},
      "source": [
        "import dataiku\nfrom dataiku import pandasutils as pdu\nimport pandas as pd"
      ],
      "outputs": []
    },
    {
      "execution_count": 0,
      "cell_type": "code",
      "metadata": {},
      "source": [
        "import requests\nimport json\nfrom pandas.io.json import json_normalize\nfrom itertools import islice"
      ],
      "outputs": []
    },
    {
      "execution_count": 0,
      "cell_type": "code",
      "metadata": {},
      "source": [
        "# Envelope rond de provinciegrenzen doorzoeken. Alle objectids die daar binnen vallen downloaden en op een rijtje zetten.\nenvelope \u003d \u002793003.99999999802+464251.5000000022+154328.6700000043+580999.9999999997\u0027 # Polygoon van NH trekt hij niet.\n# In deze query wordt wegdeel_v gedownload. Dat is laag nummer 112. Aanpassen voor andere dataset.\nlaag \u003d \u0027https://geoservices.noord-holland.nl/ags/rest/services/oi_op/oi_areaal/MapServer/97\u0027"
      ],
      "outputs": []
    },
    {
      "execution_count": 0,
      "cell_type": "code",
      "metadata": {},
      "source": [
        "laaginfo \u003d requests.get(laag+ \u0027?f\u003dpjson\u0027)\ninfo \u003d json_normalize(json.loads(laaginfo.content))\ninfo_df \u003d json_normalize(info.fields[0])\nfieldsdf \u003d info_df.name\nfields \u003d fieldsdf.tolist()\nfields"
      ],
      "outputs": []
    },
    {
      "execution_count": 0,
      "cell_type": "code",
      "metadata": {},
      "source": [
        "query \u003d laag +\u0027/query?where\u003d\u0026text\u003d\u0026objectIds\u003d\u0026time\u003d\u0026geometry\u003d\u0027+ envelope + \u0027\u0026geometryType\u003desriGeometryEnvelope\u0026inSR\u003d\u0026spatialRel\u003desriSpatialRelIntersects\u0026relationParam\u003d\u0026outFields\u003d\u0026returnGeometry\u003dfalse\u0026returnTrueCurves\u003dfalse\u0026maxAllowableOffset\u003d\u0026geometryPrecision\u003d\u0026outSR\u003d\u0026having\u003d\u0026returnIdsOnly\u003dtrue\u0026returnCountOnly\u003dfalse\u0026orderByFields\u003d\u0026groupByFieldsForStatistics\u003d\u0026outStatistics\u003d\u0026returnZ\u003dfalse\u0026returnM\u003dfalse\u0026gdbVersion\u003d\u0026historicMoment\u003d\u0026returnDistinctValues\u003dfalse\u0026resultOffset\u003d\u0026resultRecordCount\u003d\u0026queryByDistance\u003d\u0026returnExtentOnly\u003dfalse\u0026datumTransformation\u003d\u0026parameterValues\u003d\u0026rangeValues\u003d\u0026quantizationParameters\u003d\u0026f\u003dpjson\u0027\nr \u003d  requests.get(query, verify\u003dFalse)\ndf \u003d json_normalize(json.loads(r.content))\ndf.objectIds[0][0]\nobjectIds_list \u003d df.objectIds[0]"
      ],
      "outputs": []
    },
    {
      "execution_count": 0,
      "cell_type": "code",
      "metadata": {},
      "source": [
        "# Velden kiezen die je wilt downloaden en in het juiste format zetten of alles houden.\n#fields \u003d [\u0027SHAPE\u0027,\u0027WEGBEHSRT\u0027,\u0027WEGNUMMER\u0027,\u0027WEGDEELLTR\u0027,\u0027HECTO_LTTR\u0027,\u0027BAANSUBSRT\u0027,\u0027RPE_CODE\u0027, \u0027ADMRICHTNG\u0027, \u0027RIJRICHTNG\u0027,\u0027STT_NAAM\u0027,\u0027WPSNAAMNEN\u0027,\u0027OBJECTID_1\u0027,\u0027OBJECTID\u0027]\nfieldsstring \u003d \u0027\u0027\nfor f in range(0,len(fields)):\n    field \u003d fields[f]\n    if fieldsstring \u003d\u003d \u0027\u0027:\n        fieldsstring \u003d field\n    else:\n        fieldsstring \u003d fieldsstring + \u0027%2C+\u0027 + field"
      ],
      "outputs": []
    },
    {
      "execution_count": 0,
      "cell_type": "code",
      "metadata": {},
      "source": [
        "# objectIds opsplitsen in chunks\ndef chunk(it, size):\n    it \u003d iter(it)\n    return iter(lambda: tuple(islice(it, size)), ())\nn \u003d 100 # grootte van chunks\nobjectIds_chunks \u003d list(chunk(objectIds_list, n))\naantalchunks \u003d len(objectIds_chunks)"
      ],
      "outputs": []
    },
    {
      "execution_count": 0,
      "cell_type": "code",
      "metadata": {},
      "source": [
        "# Areaaldata downloaden per chunk\n#df_PNH \u003d pd.DataFrame()\nfor i in range(0,aantalchunks):\n    chunk \u003d objectIds_chunks[i]\n    objectids \u003d \u0027\u0027\n    for j in range(0,len(chunk)):\n        objectid \u003d str(chunk[j])\n        if objectids \u003d\u003d \u0027\u0027:\n            objectids \u003d objectid\n        else:\n            objectids \u003d objectids + \u0027%2C+\u0027 + objectid\n    query2\u003dlaag+\u0027/query?where\u003d\u0026text\u003d\u0026objectIds\u003d\u0027+ objectids +\u0027\u0026time\u003d\u0026geometry\u003d\u0026geometryType\u003desriGeometryEnvelope\u0026inSR\u003d\u0026spatialRel\u003desriSpatialRelIntersects\u0026relationParam\u003d\u0026outFields\u003d\u0027+ fieldsstring + \u0027\u0026returnGeometry\u003dtrue\u0026returnTrueCurves\u003dfalse\u0026maxAllowableOffset\u003d\u0026geometryPrecision\u003d\u0026outSR\u003d\u0026having\u003d\u0026returnIdsOnly\u003dfalse\u0026returnCountOnly\u003dfalse\u0026orderByFields\u003d\u0026groupByFieldsForStatistics\u003d\u0026outStatistics\u003d\u0026returnZ\u003dfalse\u0026returnM\u003dfalse\u0026gdbVersion\u003d\u0026historicMoment\u003d\u0026returnDistinctValues\u003dfalse\u0026resultOffset\u003d\u0026resultRecordCount\u003d\u0026queryByDistance\u003d\u0026returnExtentOnly\u003dfalse\u0026datumTransformation\u003d\u0026parameterValues\u003d\u0026rangeValues\u003d\u0026quantizationParameters\u003d\u0026f\u003dpjson\u0027\n    r \u003d  requests.get(query2, verify\u003dFalse)\n    df2 \u003d json_normalize(json.loads(r.content))\n    data \u003d json_normalize(df2.features[0])\n    data[\u0027ID\u0027] \u003d 97\n    df_PNH \u003d df_PNH.append(data)"
      ],
      "outputs": []
    },
    {
      "execution_count": 0,
      "cell_type": "code",
      "metadata": {},
      "source": [
        "df_PNH.tail()"
      ],
      "outputs": []
    },
    {
      "execution_count": 0,
      "cell_type": "code",
      "metadata": {},
      "source": [
        "df_object \u003d df.append(df_PNH)"
      ],
      "outputs": []
    },
    {
      "execution_count": 0,
      "cell_type": "code",
      "metadata": {},
      "source": [
        "len(df_object)"
      ],
      "outputs": []
    },
    {
      "execution_count": 0,
      "cell_type": "code",
      "metadata": {},
      "source": [
        "len(df)"
      ],
      "outputs": []
    },
    {
      "execution_count": 0,
      "cell_type": "code",
      "metadata": {},
      "source": [
        "df_object.head()"
      ],
      "outputs": []
    },
    {
      "execution_count": 0,
      "cell_type": "code",
      "metadata": {},
      "source": [
        "# Example: load a DSS dataset as a Pandas dataframe\nmydataset \u003d dataiku.Dataset(\"All_road_objects\")\ndf \u003d mydataset.get_dataframe()"
      ],
      "outputs": []
    },
    {
      "execution_count": 0,
      "cell_type": "code",
      "metadata": {},
      "source": [
        ""
      ],
      "outputs": []
    },
    {
      "execution_count": 0,
      "cell_type": "code",
      "metadata": {},
      "source": [
        "# Recipe outputs\nfinal_road_objects \u003d dataiku.Dataset(\"final_road_objects\")\nfinal_road_objects.write_with_schema(df_object)"
      ],
      "outputs": []
    },
    {
      "execution_count": 0,
      "cell_type": "code",
      "metadata": {},
      "source": [
        ""
      ],
      "outputs": []
    }
  ]
}